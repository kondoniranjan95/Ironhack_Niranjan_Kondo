{
 "cells": [
  {
   "cell_type": "code",
   "execution_count": 26,
   "id": "7a66aaf4",
   "metadata": {},
   "outputs": [],
   "source": [
    "import numpy as np \n",
    "from scipy import stats"
   ]
  },
  {
   "cell_type": "code",
   "execution_count": 27,
   "id": "16a9d80c",
   "metadata": {},
   "outputs": [],
   "source": [
    "def z_value(x_bar,mu,sig,n):\n",
    "    return ((x_bar-mu)*(n**0.5))/(sig)"
   ]
  },
  {
   "cell_type": "code",
   "execution_count": 28,
   "id": "37d45152",
   "metadata": {},
   "outputs": [],
   "source": [
    "mu = 120 # in mm Hg\n",
    "n = 100\n",
    "x_bar= 130.1\n",
    "sig= 21.21"
   ]
  },
  {
   "cell_type": "code",
   "execution_count": 29,
   "id": "e0a2607a",
   "metadata": {},
   "outputs": [],
   "source": [
    "#Step1: Define the null hypothesis - This is our assumption about the population. \n",
    "# It is defined by H0 and in this case H0: μ =120\n",
    "\n"
   ]
  },
  {
   "cell_type": "code",
   "execution_count": 30,
   "id": "43d06529",
   "metadata": {},
   "outputs": [],
   "source": [
    "#Step2: Define the alternative hypothesis- This means, what if our assumption is not true, inf fact the value is smaller.\n",
    "# It is defined by Ha and in this case using a two sided test, Ha: μ !=120\n"
   ]
  },
  {
   "cell_type": "code",
   "execution_count": 31,
   "id": "6c15e34d",
   "metadata": {},
   "outputs": [
    {
     "name": "stdout",
     "output_type": "stream",
     "text": [
      "4.761904761904759\n"
     ]
    }
   ],
   "source": [
    "#Step3: Calculating the z value based on the input parameters \n",
    "t= z_value(x_bar,mu,sig,n)\n",
    "print(t)"
   ]
  },
  {
   "cell_type": "code",
   "execution_count": 32,
   "id": "ad14a919",
   "metadata": {},
   "outputs": [
    {
     "name": "stdout",
     "output_type": "stream",
     "text": [
      "1.9842169515086827\n"
     ]
    }
   ],
   "source": [
    "#Step4: Calculating the critical value of the normal distribution with an area of 0.95? -> zc = 1.96\n",
    "tc = stats.t.ppf(0.975,df=99)\n",
    "print(tc)"
   ]
  },
  {
   "cell_type": "code",
   "execution_count": 33,
   "id": "b180a19e",
   "metadata": {},
   "outputs": [],
   "source": [
    "# In this case, tc < t\n",
    "#Therefore, we reject the null hypothesis is rejected true, that is μ =120"
   ]
  }
 ],
 "metadata": {
  "kernelspec": {
   "display_name": "Python 3 (ipykernel)",
   "language": "python",
   "name": "python3"
  },
  "language_info": {
   "codemirror_mode": {
    "name": "ipython",
    "version": 3
   },
   "file_extension": ".py",
   "mimetype": "text/x-python",
   "name": "python",
   "nbconvert_exporter": "python",
   "pygments_lexer": "ipython3",
   "version": "3.9.6"
  }
 },
 "nbformat": 4,
 "nbformat_minor": 5
}
