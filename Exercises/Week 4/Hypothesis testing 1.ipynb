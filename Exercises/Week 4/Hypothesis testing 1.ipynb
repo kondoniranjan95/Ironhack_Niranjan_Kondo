{
 "cells": [
  {
   "cell_type": "code",
   "execution_count": 48,
   "id": "7a66aaf4",
   "metadata": {},
   "outputs": [],
   "source": [
    "import numpy as np \n",
    "from scipy import stats"
   ]
  },
  {
   "cell_type": "code",
   "execution_count": 49,
   "id": "16a9d80c",
   "metadata": {},
   "outputs": [],
   "source": [
    "def z_value(x_bar,mu,sig,n):\n",
    "    return ((x_bar-mu)*(n**0.5))/(sig)"
   ]
  },
  {
   "cell_type": "code",
   "execution_count": 50,
   "id": "37d45152",
   "metadata": {},
   "outputs": [],
   "source": [
    "mu = 120 # in mm Hg\n",
    "n = 100\n",
    "x_bar= 130.1\n",
    "sig= 21.21"
   ]
  },
  {
   "cell_type": "code",
   "execution_count": 51,
   "id": "e0a2607a",
   "metadata": {},
   "outputs": [],
   "source": [
    "#Step1: Define the null hypothesis - This is our assumption about the population. \n",
    "# It is defined by H0 and in this case H0: μ =120\n",
    "\n"
   ]
  },
  {
   "cell_type": "code",
   "execution_count": 56,
   "id": "43d06529",
   "metadata": {},
   "outputs": [],
   "source": [
    "#Step2: Define the alternative hypothesis- This means, what if our assumption is not true, inf fact the value is smaller.\n",
    "# It is defined by Ha and in this case using a two sided test, Ha: μ !=120\n"
   ]
  },
  {
   "cell_type": "code",
   "execution_count": 57,
   "id": "6c15e34d",
   "metadata": {},
   "outputs": [
    {
     "name": "stdout",
     "output_type": "stream",
     "text": [
      "4.761904761904759\n"
     ]
    }
   ],
   "source": [
    "#Step3: Calculating the z value based on the input parameters \n",
    "z= z_value(x_bar,mu,sig,n)\n",
    "print(z)"
   ]
  },
  {
   "cell_type": "code",
   "execution_count": 58,
   "id": "ad14a919",
   "metadata": {},
   "outputs": [
    {
     "name": "stdout",
     "output_type": "stream",
     "text": [
      "1.959963984540054\n"
     ]
    }
   ],
   "source": [
    "#Step4: Calculating the critical value of the normal distribution with an area of 0.95? -> zc = 1.96\n",
    "zc = stats.norm.ppf(0.975)\n",
    "print(zc)"
   ]
  },
  {
   "cell_type": "code",
   "execution_count": 59,
   "id": "b180a19e",
   "metadata": {},
   "outputs": [],
   "source": [
    "# In this case, zc < z\n",
    "#Therefore, the null hypothesis holds true, that is μ =120"
   ]
  }
 ],
 "metadata": {
  "kernelspec": {
   "display_name": "Python 3 (ipykernel)",
   "language": "python",
   "name": "python3"
  },
  "language_info": {
   "codemirror_mode": {
    "name": "ipython",
    "version": 3
   },
   "file_extension": ".py",
   "mimetype": "text/x-python",
   "name": "python",
   "nbconvert_exporter": "python",
   "pygments_lexer": "ipython3",
   "version": "3.9.6"
  }
 },
 "nbformat": 4,
 "nbformat_minor": 5
}
