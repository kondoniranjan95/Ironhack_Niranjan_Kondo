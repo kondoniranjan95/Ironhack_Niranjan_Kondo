{
 "cells": [
  {
   "cell_type": "code",
   "execution_count": 78,
   "id": "7a66aaf4",
   "metadata": {},
   "outputs": [],
   "source": [
    "import numpy as np \n",
    "from scipy import stats\n",
    "import pandas as pd"
   ]
  },
  {
   "cell_type": "code",
   "execution_count": 79,
   "id": "3f292be0",
   "metadata": {},
   "outputs": [],
   "source": [
    "def z_value(x_bar,mu,sig,n):\n",
    "    return ((x_bar-mu)*(n**0.5))/(sig)"
   ]
  },
  {
   "cell_type": "code",
   "execution_count": 80,
   "id": "7ec86403",
   "metadata": {},
   "outputs": [
    {
     "data": {
      "text/plain": [
       "0    42.1\n",
       "1    41.0\n",
       "2    41.3\n",
       "3    41.8\n",
       "4    42.4\n",
       "5    42.8\n",
       "6    43.2\n",
       "7    42.3\n",
       "8    41.8\n",
       "9    42.7\n",
       "Name: New Machine, dtype: float64"
      ]
     },
     "execution_count": 80,
     "metadata": {},
     "output_type": "execute_result"
    }
   ],
   "source": [
    "d_f= pd.read_csv('Data_Machine.txt',sep= '\\t')\n",
    "d_f[\"New Machine\"]"
   ]
  },
  {
   "cell_type": "code",
   "execution_count": 81,
   "id": "a0ba94fd",
   "metadata": {},
   "outputs": [
    {
     "data": {
      "text/plain": [
       "(43.230000000000004, 42.14)"
      ]
     },
     "execution_count": 81,
     "metadata": {},
     "output_type": "execute_result"
    }
   ],
   "source": [
    "mu = np.mean(d_f[\"  Old Machine\"]) #old_mc_mean\n",
    "x_bar= np.mean(d_f[\"New Machine\"])   #new_mc_mean\n",
    "mu, x_bar"
   ]
  },
  {
   "cell_type": "code",
   "execution_count": 82,
   "id": "ae4fa9f5",
   "metadata": {},
   "outputs": [
    {
     "data": {
      "text/plain": [
       "(0.7498888806572157, 10)"
      ]
     },
     "execution_count": 82,
     "metadata": {},
     "output_type": "execute_result"
    }
   ],
   "source": [
    "n= len(d_f)\n",
    "sig= d_f[\"  Old Machine\"].std()\n",
    "sig,n\n"
   ]
  },
  {
   "cell_type": "code",
   "execution_count": 83,
   "id": "e86ef24d",
   "metadata": {},
   "outputs": [],
   "source": [
    "#Step1: Define the null hypothesis - This is our assumption about the population. It is defined by H0 and in this case H0: μ = 43.23 s"
   ]
  },
  {
   "cell_type": "code",
   "execution_count": 84,
   "id": "190fbac5",
   "metadata": {},
   "outputs": [],
   "source": [
    "#Step 2: Define the alternative hypothesis- This means, what if our assumption is not true, inf fact the value is smaller..\n",
    "# It is defined by Ha and in this case Ha: μ < 42.14 s"
   ]
  },
  {
   "cell_type": "code",
   "execution_count": 85,
   "id": "e7f1ea21",
   "metadata": {},
   "outputs": [],
   "source": [
    "#Step 3: Decide a test statistic based on the information available. \n",
    "# As the sample size is  small ( n < 10 ), we will use a statistic for a t-Student distribution."
   ]
  },
  {
   "cell_type": "code",
   "execution_count": 86,
   "id": "8b4ad721",
   "metadata": {},
   "outputs": [
    {
     "data": {
      "text/plain": [
       "1.8331129326536335"
      ]
     },
     "execution_count": 86,
     "metadata": {},
     "output_type": "execute_result"
    }
   ],
   "source": [
    "#Step 4: Set the Confidence level / significance level: This defines the rejection region / critical region (How strong has to be the evidence against the null hypothesis). \n",
    "# Let’s use a confidence level of 95% -> α = 0.05\n",
    "#The critical value of the t-student distribution with 9 degrees of freedom and an area of 0.95\n",
    "tc = stats.t.ppf(0.95, df=9)\n",
    "tc"
   ]
  },
  {
   "cell_type": "code",
   "execution_count": 87,
   "id": "bf133a4e",
   "metadata": {},
   "outputs": [
    {
     "data": {
      "text/plain": [
       "-4.596524549827484"
      ]
     },
     "execution_count": 87,
     "metadata": {},
     "output_type": "execute_result"
    }
   ],
   "source": [
    "#Calculate the test statistic for the both the machines based on the given information: \n",
    "t= z_value(x_bar,mu,sig,n)\n",
    "t"
   ]
  },
  {
   "cell_type": "code",
   "execution_count": 88,
   "id": "a227f869",
   "metadata": {},
   "outputs": [],
   "source": [
    "# Here t<tc\n",
    "# Therfore, rejecting the null hypothesis\n",
    "# Hence, the avergae value of the new machine is less than the old  "
   ]
  }
 ],
 "metadata": {
  "kernelspec": {
   "display_name": "Python 3 (ipykernel)",
   "language": "python",
   "name": "python3"
  },
  "language_info": {
   "codemirror_mode": {
    "name": "ipython",
    "version": 3
   },
   "file_extension": ".py",
   "mimetype": "text/x-python",
   "name": "python",
   "nbconvert_exporter": "python",
   "pygments_lexer": "ipython3",
   "version": "3.9.6"
  }
 },
 "nbformat": 4,
 "nbformat_minor": 5
}
