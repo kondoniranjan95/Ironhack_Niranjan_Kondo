{
 "cells": [
  {
   "cell_type": "code",
   "execution_count": 47,
   "id": "7a66aaf4",
   "metadata": {},
   "outputs": [],
   "source": [
    "import numpy as np \n",
    "from scipy import stats\n",
    "import pandas as pd"
   ]
  },
  {
   "cell_type": "code",
   "execution_count": 48,
   "id": "3f292be0",
   "metadata": {},
   "outputs": [],
   "source": [
    "def z_value(x1_bar,x2_bar,sig1,sig2,n1,n2):\n",
    "    num= x1_bar-x2_bar\n",
    "    den= ((sig1**2/n1)+(sig2**2/n2))**0.5\n",
    "    return num/den"
   ]
  },
  {
   "cell_type": "code",
   "execution_count": 49,
   "id": "7ec86403",
   "metadata": {},
   "outputs": [
    {
     "data": {
      "text/plain": [
       "0    42.1\n",
       "1    41.0\n",
       "2    41.3\n",
       "3    41.8\n",
       "4    42.4\n",
       "5    42.8\n",
       "6    43.2\n",
       "7    42.3\n",
       "8    41.8\n",
       "9    42.7\n",
       "Name: New Machine, dtype: float64"
      ]
     },
     "execution_count": 49,
     "metadata": {},
     "output_type": "execute_result"
    }
   ],
   "source": [
    "d_f= pd.read_csv('Data_Machine.txt',sep= '\\t')\n",
    "d_f[\"New Machine\"]"
   ]
  },
  {
   "cell_type": "code",
   "execution_count": 50,
   "id": "a0ba94fd",
   "metadata": {},
   "outputs": [],
   "source": [
    "x1_bar = np.mean(d_f[\"  Old Machine\"]) #old_mc_mean\n",
    "x2_bar= np.mean(d_f[\"New Machine\"])   #new_mc_mean\n"
   ]
  },
  {
   "cell_type": "code",
   "execution_count": 51,
   "id": "ae4fa9f5",
   "metadata": {},
   "outputs": [
    {
     "data": {
      "text/plain": [
       "(0.7498888806572157, 0.6834552736727638)"
      ]
     },
     "execution_count": 51,
     "metadata": {},
     "output_type": "execute_result"
    }
   ],
   "source": [
    "n1=n2= len(d_f)\n",
    "sig2= d_f[\"New Machine\"].std()\n",
    "sig1= d_f[\"  Old Machine\"].std()\n",
    "sig1, sig2\n"
   ]
  },
  {
   "cell_type": "code",
   "execution_count": 52,
   "id": "8b4ad721",
   "metadata": {},
   "outputs": [
    {
     "data": {
      "text/plain": [
       "2.2621571627409915"
      ]
     },
     "execution_count": 52,
     "metadata": {},
     "output_type": "execute_result"
    }
   ],
   "source": [
    "#Set the Confidence level / significance level: This defines the rejection region / critical region (How strong has to be the evidence against the null hypothesis). \n",
    "# Let’s use a confidence level of 95% -> α = 0.05 for two sided it is 100-5/2= 97.5 %\n",
    "#The critical value of the t-student distribution wi#th 9 degrees of freedom and an area of 0.975\n",
    "tc = stats.t.ppf(0.975, df=9)\n",
    "tc"
   ]
  },
  {
   "cell_type": "code",
   "execution_count": 53,
   "id": "bf133a4e",
   "metadata": {},
   "outputs": [
    {
     "data": {
      "text/plain": [
       "3.397230706117603"
      ]
     },
     "execution_count": 53,
     "metadata": {},
     "output_type": "execute_result"
    }
   ],
   "source": [
    "#Calculate the test statistic for the both the machines based on the given information: \n",
    "t= z_value(x1_bar,x2_bar,sig1,sig2,n1,n2)\n",
    "t"
   ]
  },
  {
   "cell_type": "code",
   "execution_count": 54,
   "id": "a227f869",
   "metadata": {},
   "outputs": [],
   "source": [
    "# Here t<tc\n",
    "# Therfore, accepting the null hypothesis\n",
    "# Hence, the average value of the new machine is more than the old  "
   ]
  }
 ],
 "metadata": {
  "kernelspec": {
   "display_name": "Python 3 (ipykernel)",
   "language": "python",
   "name": "python3"
  },
  "language_info": {
   "codemirror_mode": {
    "name": "ipython",
    "version": 3
   },
   "file_extension": ".py",
   "mimetype": "text/x-python",
   "name": "python",
   "nbconvert_exporter": "python",
   "pygments_lexer": "ipython3",
   "version": "3.9.6"
  }
 },
 "nbformat": 4,
 "nbformat_minor": 5
}
