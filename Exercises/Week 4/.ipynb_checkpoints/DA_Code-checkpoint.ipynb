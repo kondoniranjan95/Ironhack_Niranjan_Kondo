{
 "cells": [
  {
   "cell_type": "markdown",
   "id": "64c22429",
   "metadata": {},
   "source": [
    "### Importing the libraries "
   ]
  },
  {
   "cell_type": "code",
   "execution_count": 2,
   "id": "9bbeeac2",
   "metadata": {},
   "outputs": [],
   "source": [
    "import pandas as pd\n",
    "import numpy as np"
   ]
  },
  {
   "cell_type": "markdown",
   "id": "1a3c81ff",
   "metadata": {},
   "source": [
    "# Activity 1 "
   ]
  },
  {
   "cell_type": "markdown",
   "id": "e4f71bd3",
   "metadata": {},
   "source": [
    "### Aggregate data into one Data Frame using Pandas."
   ]
  },
  {
   "cell_type": "code",
   "execution_count": 3,
   "id": "107da2a5",
   "metadata": {},
   "outputs": [],
   "source": [
    "file1 = pd.read_csv('file1.csv')\n",
    "file2= pd.read_csv('file2.csv')\n",
    "file3= pd.read_csv('file3.csv')\n",
    "#main_data= pd.read_csv('Data_Marketing_Customer_Analysis_Round2.csv')"
   ]
  },
  {
   "cell_type": "code",
   "execution_count": 4,
   "id": "f8161f67",
   "metadata": {},
   "outputs": [],
   "source": [
    "main_data=pd.concat([file1,file2,file3],axis=0).reset_index()\n"
   ]
  },
  {
   "cell_type": "markdown",
   "id": "a900827b",
   "metadata": {},
   "source": [
    "### Standardizing header names"
   ]
  },
  {
   "cell_type": "code",
   "execution_count": 5,
   "id": "e5361a99",
   "metadata": {},
   "outputs": [
    {
     "data": {
      "text/html": [
       "<div>\n",
       "<style scoped>\n",
       "    .dataframe tbody tr th:only-of-type {\n",
       "        vertical-align: middle;\n",
       "    }\n",
       "\n",
       "    .dataframe tbody tr th {\n",
       "        vertical-align: top;\n",
       "    }\n",
       "\n",
       "    .dataframe thead th {\n",
       "        text-align: right;\n",
       "    }\n",
       "</style>\n",
       "<table border=\"1\" class=\"dataframe\">\n",
       "  <thead>\n",
       "    <tr style=\"text-align: right;\">\n",
       "      <th></th>\n",
       "      <th>index</th>\n",
       "      <th>customer</th>\n",
       "      <th>st</th>\n",
       "      <th>gender</th>\n",
       "      <th>education</th>\n",
       "      <th>customer lifetime value</th>\n",
       "      <th>income</th>\n",
       "      <th>monthly premium auto</th>\n",
       "      <th>number of open complaints</th>\n",
       "      <th>policy type</th>\n",
       "      <th>vehicle class</th>\n",
       "      <th>total claim amount</th>\n",
       "      <th>state</th>\n",
       "      <th>gender</th>\n",
       "    </tr>\n",
       "  </thead>\n",
       "  <tbody>\n",
       "    <tr>\n",
       "      <th>0</th>\n",
       "      <td>0</td>\n",
       "      <td>RB50392</td>\n",
       "      <td>Washington</td>\n",
       "      <td>NaN</td>\n",
       "      <td>Master</td>\n",
       "      <td>NaN</td>\n",
       "      <td>0.0</td>\n",
       "      <td>1000.0</td>\n",
       "      <td>1/0/00</td>\n",
       "      <td>Personal Auto</td>\n",
       "      <td>Four-Door Car</td>\n",
       "      <td>2.704934</td>\n",
       "      <td>NaN</td>\n",
       "      <td>NaN</td>\n",
       "    </tr>\n",
       "    <tr>\n",
       "      <th>1</th>\n",
       "      <td>1</td>\n",
       "      <td>QZ44356</td>\n",
       "      <td>Arizona</td>\n",
       "      <td>F</td>\n",
       "      <td>Bachelor</td>\n",
       "      <td>697953.59%</td>\n",
       "      <td>0.0</td>\n",
       "      <td>94.0</td>\n",
       "      <td>1/0/00</td>\n",
       "      <td>Personal Auto</td>\n",
       "      <td>Four-Door Car</td>\n",
       "      <td>1131.464935</td>\n",
       "      <td>NaN</td>\n",
       "      <td>NaN</td>\n",
       "    </tr>\n",
       "    <tr>\n",
       "      <th>2</th>\n",
       "      <td>2</td>\n",
       "      <td>AI49188</td>\n",
       "      <td>Nevada</td>\n",
       "      <td>F</td>\n",
       "      <td>Bachelor</td>\n",
       "      <td>1288743.17%</td>\n",
       "      <td>48767.0</td>\n",
       "      <td>108.0</td>\n",
       "      <td>1/0/00</td>\n",
       "      <td>Personal Auto</td>\n",
       "      <td>Two-Door Car</td>\n",
       "      <td>566.472247</td>\n",
       "      <td>NaN</td>\n",
       "      <td>NaN</td>\n",
       "    </tr>\n",
       "    <tr>\n",
       "      <th>3</th>\n",
       "      <td>3</td>\n",
       "      <td>WW63253</td>\n",
       "      <td>California</td>\n",
       "      <td>M</td>\n",
       "      <td>Bachelor</td>\n",
       "      <td>764586.18%</td>\n",
       "      <td>0.0</td>\n",
       "      <td>106.0</td>\n",
       "      <td>1/0/00</td>\n",
       "      <td>Corporate Auto</td>\n",
       "      <td>SUV</td>\n",
       "      <td>529.881344</td>\n",
       "      <td>NaN</td>\n",
       "      <td>NaN</td>\n",
       "    </tr>\n",
       "    <tr>\n",
       "      <th>4</th>\n",
       "      <td>4</td>\n",
       "      <td>GA49547</td>\n",
       "      <td>Washington</td>\n",
       "      <td>M</td>\n",
       "      <td>High School or Below</td>\n",
       "      <td>536307.65%</td>\n",
       "      <td>36357.0</td>\n",
       "      <td>68.0</td>\n",
       "      <td>1/0/00</td>\n",
       "      <td>Personal Auto</td>\n",
       "      <td>Four-Door Car</td>\n",
       "      <td>17.269323</td>\n",
       "      <td>NaN</td>\n",
       "      <td>NaN</td>\n",
       "    </tr>\n",
       "    <tr>\n",
       "      <th>...</th>\n",
       "      <td>...</td>\n",
       "      <td>...</td>\n",
       "      <td>...</td>\n",
       "      <td>...</td>\n",
       "      <td>...</td>\n",
       "      <td>...</td>\n",
       "      <td>...</td>\n",
       "      <td>...</td>\n",
       "      <td>...</td>\n",
       "      <td>...</td>\n",
       "      <td>...</td>\n",
       "      <td>...</td>\n",
       "      <td>...</td>\n",
       "      <td>...</td>\n",
       "    </tr>\n",
       "    <tr>\n",
       "      <th>12069</th>\n",
       "      <td>7065</td>\n",
       "      <td>LA72316</td>\n",
       "      <td>NaN</td>\n",
       "      <td>NaN</td>\n",
       "      <td>Bachelor</td>\n",
       "      <td>23405.98798</td>\n",
       "      <td>71941.0</td>\n",
       "      <td>73.0</td>\n",
       "      <td>0</td>\n",
       "      <td>Personal Auto</td>\n",
       "      <td>Four-Door Car</td>\n",
       "      <td>198.234764</td>\n",
       "      <td>California</td>\n",
       "      <td>M</td>\n",
       "    </tr>\n",
       "    <tr>\n",
       "      <th>12070</th>\n",
       "      <td>7066</td>\n",
       "      <td>PK87824</td>\n",
       "      <td>NaN</td>\n",
       "      <td>NaN</td>\n",
       "      <td>College</td>\n",
       "      <td>3096.511217</td>\n",
       "      <td>21604.0</td>\n",
       "      <td>79.0</td>\n",
       "      <td>0</td>\n",
       "      <td>Corporate Auto</td>\n",
       "      <td>Four-Door Car</td>\n",
       "      <td>379.200000</td>\n",
       "      <td>California</td>\n",
       "      <td>F</td>\n",
       "    </tr>\n",
       "    <tr>\n",
       "      <th>12071</th>\n",
       "      <td>7067</td>\n",
       "      <td>TD14365</td>\n",
       "      <td>NaN</td>\n",
       "      <td>NaN</td>\n",
       "      <td>Bachelor</td>\n",
       "      <td>8163.890428</td>\n",
       "      <td>0.0</td>\n",
       "      <td>85.0</td>\n",
       "      <td>3</td>\n",
       "      <td>Corporate Auto</td>\n",
       "      <td>Four-Door Car</td>\n",
       "      <td>790.784983</td>\n",
       "      <td>California</td>\n",
       "      <td>M</td>\n",
       "    </tr>\n",
       "    <tr>\n",
       "      <th>12072</th>\n",
       "      <td>7068</td>\n",
       "      <td>UP19263</td>\n",
       "      <td>NaN</td>\n",
       "      <td>NaN</td>\n",
       "      <td>College</td>\n",
       "      <td>7524.442436</td>\n",
       "      <td>21941.0</td>\n",
       "      <td>96.0</td>\n",
       "      <td>0</td>\n",
       "      <td>Personal Auto</td>\n",
       "      <td>Four-Door Car</td>\n",
       "      <td>691.200000</td>\n",
       "      <td>California</td>\n",
       "      <td>M</td>\n",
       "    </tr>\n",
       "    <tr>\n",
       "      <th>12073</th>\n",
       "      <td>7069</td>\n",
       "      <td>Y167826</td>\n",
       "      <td>NaN</td>\n",
       "      <td>NaN</td>\n",
       "      <td>College</td>\n",
       "      <td>2611.836866</td>\n",
       "      <td>0.0</td>\n",
       "      <td>77.0</td>\n",
       "      <td>0</td>\n",
       "      <td>Corporate Auto</td>\n",
       "      <td>Two-Door Car</td>\n",
       "      <td>369.600000</td>\n",
       "      <td>California</td>\n",
       "      <td>M</td>\n",
       "    </tr>\n",
       "  </tbody>\n",
       "</table>\n",
       "<p>12074 rows × 14 columns</p>\n",
       "</div>"
      ],
      "text/plain": [
       "       index customer          st gender             education  \\\n",
       "0          0  RB50392  Washington    NaN                Master   \n",
       "1          1  QZ44356     Arizona      F              Bachelor   \n",
       "2          2  AI49188      Nevada      F              Bachelor   \n",
       "3          3  WW63253  California      M              Bachelor   \n",
       "4          4  GA49547  Washington      M  High School or Below   \n",
       "...      ...      ...         ...    ...                   ...   \n",
       "12069   7065  LA72316         NaN    NaN              Bachelor   \n",
       "12070   7066  PK87824         NaN    NaN               College   \n",
       "12071   7067  TD14365         NaN    NaN              Bachelor   \n",
       "12072   7068  UP19263         NaN    NaN               College   \n",
       "12073   7069  Y167826         NaN    NaN               College   \n",
       "\n",
       "      customer lifetime value   income  monthly premium auto  \\\n",
       "0                         NaN      0.0                1000.0   \n",
       "1                  697953.59%      0.0                  94.0   \n",
       "2                 1288743.17%  48767.0                 108.0   \n",
       "3                  764586.18%      0.0                 106.0   \n",
       "4                  536307.65%  36357.0                  68.0   \n",
       "...                       ...      ...                   ...   \n",
       "12069             23405.98798  71941.0                  73.0   \n",
       "12070             3096.511217  21604.0                  79.0   \n",
       "12071             8163.890428      0.0                  85.0   \n",
       "12072             7524.442436  21941.0                  96.0   \n",
       "12073             2611.836866      0.0                  77.0   \n",
       "\n",
       "      number of open complaints     policy type  vehicle class  \\\n",
       "0                        1/0/00   Personal Auto  Four-Door Car   \n",
       "1                        1/0/00   Personal Auto  Four-Door Car   \n",
       "2                        1/0/00   Personal Auto   Two-Door Car   \n",
       "3                        1/0/00  Corporate Auto            SUV   \n",
       "4                        1/0/00   Personal Auto  Four-Door Car   \n",
       "...                         ...             ...            ...   \n",
       "12069                         0   Personal Auto  Four-Door Car   \n",
       "12070                         0  Corporate Auto  Four-Door Car   \n",
       "12071                         3  Corporate Auto  Four-Door Car   \n",
       "12072                         0   Personal Auto  Four-Door Car   \n",
       "12073                         0  Corporate Auto   Two-Door Car   \n",
       "\n",
       "       total claim amount       state gender  \n",
       "0                2.704934         NaN    NaN  \n",
       "1             1131.464935         NaN    NaN  \n",
       "2              566.472247         NaN    NaN  \n",
       "3              529.881344         NaN    NaN  \n",
       "4               17.269323         NaN    NaN  \n",
       "...                   ...         ...    ...  \n",
       "12069          198.234764  California      M  \n",
       "12070          379.200000  California      F  \n",
       "12071          790.784983  California      M  \n",
       "12072          691.200000  California      M  \n",
       "12073          369.600000  California      M  \n",
       "\n",
       "[12074 rows x 14 columns]"
      ]
     },
     "execution_count": 5,
     "metadata": {},
     "output_type": "execute_result"
    }
   ],
   "source": [
    "main_data.columns= [item.lower() for item in main_data.columns]\n",
    "main_data"
   ]
  },
  {
   "cell_type": "markdown",
   "id": "6179b2de",
   "metadata": {},
   "source": [
    "### Deleting and rearranging columns – delete the column customer as it is only a unique identifier for each row of data"
   ]
  },
  {
   "cell_type": "code",
   "execution_count": 6,
   "id": "3e4fc604",
   "metadata": {},
   "outputs": [],
   "source": [
    "main_data= main_data.rename(columns={'st':'state',\"customer lifetime value\":\"cust_life_val\",\"monthly premium auto\":\"month_prem_auto\",\n",
    "                          \"number of open complaints\":\"no_open_compl\",\"number of policies\":\"no_of_policies\",\"policy type\":\"policy_type\",\n",
    "                        \"vehicle class\":\"veh_class\",\"total claim amount\":\"tot_claim_amt\"\n",
    "                       })\n"
   ]
  },
  {
   "cell_type": "code",
   "execution_count": 7,
   "id": "81a05a4c",
   "metadata": {},
   "outputs": [
    {
     "name": "stdout",
     "output_type": "stream",
     "text": [
      "<class 'pandas.core.frame.DataFrame'>\n",
      "RangeIndex: 12074 entries, 0 to 12073\n",
      "Data columns (total 13 columns):\n",
      " #   Column           Non-Null Count  Dtype  \n",
      "---  ------           --------------  -----  \n",
      " 0   index            12074 non-null  int64  \n",
      " 1   state            2067 non-null   object \n",
      " 2   gender           1945 non-null   object \n",
      " 3   education        9137 non-null   object \n",
      " 4   cust_life_val    9130 non-null   object \n",
      " 5   income           9137 non-null   float64\n",
      " 6   month_prem_auto  9137 non-null   float64\n",
      " 7   no_open_compl    9137 non-null   object \n",
      " 8   policy_type      9137 non-null   object \n",
      " 9   veh_class        9137 non-null   object \n",
      " 10  tot_claim_amt    9137 non-null   float64\n",
      " 11  state            7070 non-null   object \n",
      " 12  gender           7070 non-null   object \n",
      "dtypes: float64(3), int64(1), object(9)\n",
      "memory usage: 1.2+ MB\n"
     ]
    }
   ],
   "source": [
    "main_data= main_data.drop(columns=[\"customer\"])\n",
    "main_data.info()\n"
   ]
  },
  {
   "cell_type": "markdown",
   "id": "7198f65b",
   "metadata": {},
   "source": [
    "### Working with data types – Check the data types of all the columns and fix the incorrect ones (for ex. customer lifetime value and number of complaints ) "
   ]
  },
  {
   "cell_type": "code",
   "execution_count": 8,
   "id": "00f65342",
   "metadata": {},
   "outputs": [
    {
     "name": "stdout",
     "output_type": "stream",
     "text": [
      "<class 'pandas.core.frame.DataFrame'>\n",
      "RangeIndex: 12074 entries, 0 to 12073\n",
      "Data columns (total 13 columns):\n",
      " #   Column           Non-Null Count  Dtype  \n",
      "---  ------           --------------  -----  \n",
      " 0   index            12074 non-null  int64  \n",
      " 1   state            2067 non-null   object \n",
      " 2   gender           1945 non-null   object \n",
      " 3   education        9137 non-null   object \n",
      " 4   cust_life_val    9130 non-null   object \n",
      " 5   income           9137 non-null   float64\n",
      " 6   month_prem_auto  9137 non-null   float64\n",
      " 7   no_open_compl    9137 non-null   object \n",
      " 8   policy_type      9137 non-null   object \n",
      " 9   veh_class        9137 non-null   object \n",
      " 10  tot_claim_amt    9137 non-null   float64\n",
      " 11  state            7070 non-null   object \n",
      " 12  gender           7070 non-null   object \n",
      "dtypes: float64(3), int64(1), object(9)\n",
      "memory usage: 1.2+ MB\n"
     ]
    }
   ],
   "source": [
    "main_data.info()"
   ]
  },
  {
   "cell_type": "markdown",
   "id": "0e151d6d",
   "metadata": {},
   "source": [
    "#### customer life value data cleaning"
   ]
  },
  {
   "cell_type": "code",
   "execution_count": 9,
   "id": "42b8e039",
   "metadata": {},
   "outputs": [],
   "source": [
    "main_data[\"cust_life_val\"]= main_data.cust_life_val.replace(\"%\",\"\")\n"
   ]
  },
  {
   "cell_type": "code",
   "execution_count": 10,
   "id": "d189900d",
   "metadata": {},
   "outputs": [],
   "source": [
    "main_data[\"cust_life_val\"]= pd.to_numeric(main_data[\"cust_life_val\"],errors='coerce')"
   ]
  },
  {
   "cell_type": "code",
   "execution_count": 11,
   "id": "80e54778",
   "metadata": {},
   "outputs": [
    {
     "data": {
      "text/plain": [
       "cust_life_val\n",
       "6057.072080     6\n",
       "5568.947534     6\n",
       "20096.893370    6\n",
       "4349.308750     6\n",
       "4650.063763     6\n",
       "               ..\n",
       "4772.931526     1\n",
       "4770.984146     1\n",
       "4770.739040     1\n",
       "4768.955924     1\n",
       "83325.381190    1\n",
       "Length: 6288, dtype: int64"
      ]
     },
     "execution_count": 11,
     "metadata": {},
     "output_type": "execute_result"
    }
   ],
   "source": [
    "main_data.value_counts(\"cust_life_val\")"
   ]
  },
  {
   "cell_type": "markdown",
   "id": "14288dda",
   "metadata": {},
   "source": [
    "#### number of complaints data cleaning ???"
   ]
  },
  {
   "cell_type": "code",
   "execution_count": 12,
   "id": "a86abf44",
   "metadata": {},
   "outputs": [
    {
     "data": {
      "text/plain": [
       "0        1/0/00\n",
       "1        1/0/00\n",
       "2        1/0/00\n",
       "3        1/0/00\n",
       "4        1/0/00\n",
       "          ...  \n",
       "12069         0\n",
       "12070         0\n",
       "12071         3\n",
       "12072         0\n",
       "12073         0\n",
       "Name: no_open_compl, Length: 12074, dtype: object"
      ]
     },
     "execution_count": 12,
     "metadata": {},
     "output_type": "execute_result"
    }
   ],
   "source": [
    "main_data[\"no_open_compl\"]"
   ]
  },
  {
   "cell_type": "code",
   "execution_count": 13,
   "id": "a27c98b4",
   "metadata": {},
   "outputs": [
    {
     "data": {
      "text/plain": [
       "no_open_compl\n",
       "0         5629\n",
       "1/0/00    1626\n",
       "1          765\n",
       "2          283\n",
       "1/1/00     247\n",
       "3          230\n",
       "4          119\n",
       "1/2/00      93\n",
       "1/3/00      60\n",
       "5           44\n",
       "1/4/00      29\n",
       "1/5/00      12\n",
       "dtype: int64"
      ]
     },
     "execution_count": 13,
     "metadata": {},
     "output_type": "execute_result"
    }
   ],
   "source": [
    "main_data.value_counts(\"no_open_compl\")"
   ]
  },
  {
   "cell_type": "markdown",
   "id": "30f0a05d",
   "metadata": {},
   "source": [
    "### Filtering data and Correcting typos – Filter the data in gender and state column to standardize the texts in those columns"
   ]
  },
  {
   "cell_type": "markdown",
   "id": "e9793836",
   "metadata": {},
   "source": [
    "#### Gender"
   ]
  },
  {
   "cell_type": "code",
   "execution_count": 14,
   "id": "8490aeb4",
   "metadata": {},
   "outputs": [],
   "source": [
    "main_data[\"gender\"]= main_data.gender.fillna(\"U\")"
   ]
  },
  {
   "cell_type": "code",
   "execution_count": 15,
   "id": "bce210f0",
   "metadata": {},
   "outputs": [
    {
     "ename": "ValueError",
     "evalue": "Grouper for 'gender' not 1-dimensional",
     "output_type": "error",
     "traceback": [
      "\u001b[1;31m---------------------------------------------------------------------------\u001b[0m",
      "\u001b[1;31mValueError\u001b[0m                                Traceback (most recent call last)",
      "\u001b[1;32m~\\AppData\\Local\\Temp/ipykernel_5536/2789940574.py\u001b[0m in \u001b[0;36m<module>\u001b[1;34m\u001b[0m\n\u001b[1;32m----> 1\u001b[1;33m \u001b[0mmain_data\u001b[0m\u001b[1;33m.\u001b[0m\u001b[0mgender\u001b[0m\u001b[1;33m.\u001b[0m\u001b[0mvalue_counts\u001b[0m\u001b[1;33m(\u001b[0m\u001b[1;33m)\u001b[0m\u001b[1;33m\u001b[0m\u001b[1;33m\u001b[0m\u001b[0m\n\u001b[0m",
      "\u001b[1;32mE:\\Anaconda\\envs\\DA_Envi\\lib\\site-packages\\pandas\\core\\frame.py\u001b[0m in \u001b[0;36mvalue_counts\u001b[1;34m(self, subset, normalize, sort, ascending, dropna)\u001b[0m\n\u001b[0;32m   6514\u001b[0m             \u001b[0msubset\u001b[0m \u001b[1;33m=\u001b[0m \u001b[0mself\u001b[0m\u001b[1;33m.\u001b[0m\u001b[0mcolumns\u001b[0m\u001b[1;33m.\u001b[0m\u001b[0mtolist\u001b[0m\u001b[1;33m(\u001b[0m\u001b[1;33m)\u001b[0m\u001b[1;33m\u001b[0m\u001b[1;33m\u001b[0m\u001b[0m\n\u001b[0;32m   6515\u001b[0m \u001b[1;33m\u001b[0m\u001b[0m\n\u001b[1;32m-> 6516\u001b[1;33m         \u001b[0mcounts\u001b[0m \u001b[1;33m=\u001b[0m \u001b[0mself\u001b[0m\u001b[1;33m.\u001b[0m\u001b[0mgroupby\u001b[0m\u001b[1;33m(\u001b[0m\u001b[0msubset\u001b[0m\u001b[1;33m,\u001b[0m \u001b[0mdropna\u001b[0m\u001b[1;33m=\u001b[0m\u001b[0mdropna\u001b[0m\u001b[1;33m)\u001b[0m\u001b[1;33m.\u001b[0m\u001b[0mgrouper\u001b[0m\u001b[1;33m.\u001b[0m\u001b[0msize\u001b[0m\u001b[1;33m(\u001b[0m\u001b[1;33m)\u001b[0m\u001b[1;33m\u001b[0m\u001b[1;33m\u001b[0m\u001b[0m\n\u001b[0m\u001b[0;32m   6517\u001b[0m \u001b[1;33m\u001b[0m\u001b[0m\n\u001b[0;32m   6518\u001b[0m         \u001b[1;32mif\u001b[0m \u001b[0msort\u001b[0m\u001b[1;33m:\u001b[0m\u001b[1;33m\u001b[0m\u001b[1;33m\u001b[0m\u001b[0m\n",
      "\u001b[1;32mE:\\Anaconda\\envs\\DA_Envi\\lib\\site-packages\\pandas\\core\\frame.py\u001b[0m in \u001b[0;36mgroupby\u001b[1;34m(self, by, axis, level, as_index, sort, group_keys, squeeze, observed, dropna)\u001b[0m\n\u001b[0;32m   7629\u001b[0m         \u001b[1;31m# error: Argument \"squeeze\" to \"DataFrameGroupBy\" has incompatible type\u001b[0m\u001b[1;33m\u001b[0m\u001b[1;33m\u001b[0m\u001b[1;33m\u001b[0m\u001b[0m\n\u001b[0;32m   7630\u001b[0m         \u001b[1;31m# \"Union[bool, NoDefault]\"; expected \"bool\"\u001b[0m\u001b[1;33m\u001b[0m\u001b[1;33m\u001b[0m\u001b[1;33m\u001b[0m\u001b[0m\n\u001b[1;32m-> 7631\u001b[1;33m         return DataFrameGroupBy(\n\u001b[0m\u001b[0;32m   7632\u001b[0m             \u001b[0mobj\u001b[0m\u001b[1;33m=\u001b[0m\u001b[0mself\u001b[0m\u001b[1;33m,\u001b[0m\u001b[1;33m\u001b[0m\u001b[1;33m\u001b[0m\u001b[0m\n\u001b[0;32m   7633\u001b[0m             \u001b[0mkeys\u001b[0m\u001b[1;33m=\u001b[0m\u001b[0mby\u001b[0m\u001b[1;33m,\u001b[0m\u001b[1;33m\u001b[0m\u001b[1;33m\u001b[0m\u001b[0m\n",
      "\u001b[1;32mE:\\Anaconda\\envs\\DA_Envi\\lib\\site-packages\\pandas\\core\\groupby\\groupby.py\u001b[0m in \u001b[0;36m__init__\u001b[1;34m(self, obj, keys, axis, level, grouper, exclusions, selection, as_index, sort, group_keys, squeeze, observed, mutated, dropna)\u001b[0m\n\u001b[0;32m    887\u001b[0m             \u001b[1;32mfrom\u001b[0m \u001b[0mpandas\u001b[0m\u001b[1;33m.\u001b[0m\u001b[0mcore\u001b[0m\u001b[1;33m.\u001b[0m\u001b[0mgroupby\u001b[0m\u001b[1;33m.\u001b[0m\u001b[0mgrouper\u001b[0m \u001b[1;32mimport\u001b[0m \u001b[0mget_grouper\u001b[0m\u001b[1;33m\u001b[0m\u001b[1;33m\u001b[0m\u001b[0m\n\u001b[0;32m    888\u001b[0m \u001b[1;33m\u001b[0m\u001b[0m\n\u001b[1;32m--> 889\u001b[1;33m             grouper, exclusions, obj = get_grouper(\n\u001b[0m\u001b[0;32m    890\u001b[0m                 \u001b[0mobj\u001b[0m\u001b[1;33m,\u001b[0m\u001b[1;33m\u001b[0m\u001b[1;33m\u001b[0m\u001b[0m\n\u001b[0;32m    891\u001b[0m                 \u001b[0mkeys\u001b[0m\u001b[1;33m,\u001b[0m\u001b[1;33m\u001b[0m\u001b[1;33m\u001b[0m\u001b[0m\n",
      "\u001b[1;32mE:\\Anaconda\\envs\\DA_Envi\\lib\\site-packages\\pandas\\core\\groupby\\grouper.py\u001b[0m in \u001b[0;36mget_grouper\u001b[1;34m(obj, key, axis, level, sort, observed, mutated, validate, dropna)\u001b[0m\n\u001b[0;32m    855\u001b[0m                     \u001b[1;31m# non-unique columns; raise here to get the name in the\u001b[0m\u001b[1;33m\u001b[0m\u001b[1;33m\u001b[0m\u001b[1;33m\u001b[0m\u001b[0m\n\u001b[0;32m    856\u001b[0m                     \u001b[1;31m# exception message\u001b[0m\u001b[1;33m\u001b[0m\u001b[1;33m\u001b[0m\u001b[1;33m\u001b[0m\u001b[0m\n\u001b[1;32m--> 857\u001b[1;33m                     \u001b[1;32mraise\u001b[0m \u001b[0mValueError\u001b[0m\u001b[1;33m(\u001b[0m\u001b[1;34mf\"Grouper for '{name}' not 1-dimensional\"\u001b[0m\u001b[1;33m)\u001b[0m\u001b[1;33m\u001b[0m\u001b[1;33m\u001b[0m\u001b[0m\n\u001b[0m\u001b[0;32m    858\u001b[0m                 \u001b[0mexclusions\u001b[0m\u001b[1;33m.\u001b[0m\u001b[0madd\u001b[0m\u001b[1;33m(\u001b[0m\u001b[0mname\u001b[0m\u001b[1;33m)\u001b[0m\u001b[1;33m\u001b[0m\u001b[1;33m\u001b[0m\u001b[0m\n\u001b[0;32m    859\u001b[0m             \u001b[1;32melif\u001b[0m \u001b[0mobj\u001b[0m\u001b[1;33m.\u001b[0m\u001b[0m_is_level_reference\u001b[0m\u001b[1;33m(\u001b[0m\u001b[0mgpr\u001b[0m\u001b[1;33m,\u001b[0m \u001b[0maxis\u001b[0m\u001b[1;33m=\u001b[0m\u001b[0maxis\u001b[0m\u001b[1;33m)\u001b[0m\u001b[1;33m:\u001b[0m\u001b[1;33m\u001b[0m\u001b[1;33m\u001b[0m\u001b[0m\n",
      "\u001b[1;31mValueError\u001b[0m: Grouper for 'gender' not 1-dimensional"
     ]
    }
   ],
   "source": [
    "main_data.gender.value_counts()"
   ]
  },
  {
   "cell_type": "code",
   "execution_count": 16,
   "id": "d24ce237",
   "metadata": {},
   "outputs": [],
   "source": [
    "def clean_gender(x):\n",
    "    if x in [\"M\",\"male\",\"Male\"]:\n",
    "        return \"M\"\n",
    "    elif x in [\"F\",\"female\",\"Femal\"]:\n",
    "        return \"F\"\n",
    "    elif x in [\"U\"]:\n",
    "        return \"U\"\n",
    "    else:\n",
    "        return \"U\""
   ]
  },
  {
   "cell_type": "code",
   "execution_count": 17,
   "id": "afa8d03e",
   "metadata": {},
   "outputs": [],
   "source": [
    "main_data[\"gender\"]= list(map(clean_gender,main_data[\"gender\"]))"
   ]
  },
  {
   "cell_type": "markdown",
   "id": "217d88ff",
   "metadata": {},
   "source": [
    "#### State "
   ]
  },
  {
   "cell_type": "code",
   "execution_count": 18,
   "id": "4f7860ac",
   "metadata": {},
   "outputs": [],
   "source": [
    "main_data[\"state\"]= main_data.state.fillna(\"Unknown\")"
   ]
  },
  {
   "cell_type": "code",
   "execution_count": 19,
   "id": "04c7db86",
   "metadata": {},
   "outputs": [
    {
     "name": "stderr",
     "output_type": "stream",
     "text": [
      "E:\\Anaconda\\envs\\DA_Envi\\lib\\site-packages\\pandas\\core\\frame.py:5238: SettingWithCopyWarning: \n",
      "A value is trying to be set on a copy of a slice from a DataFrame\n",
      "\n",
      "See the caveats in the documentation: https://pandas.pydata.org/pandas-docs/stable/user_guide/indexing.html#returning-a-view-versus-a-copy\n",
      "  return super().replace(\n"
     ]
    },
    {
     "ename": "ValueError",
     "evalue": "Grouper for 'state' not 1-dimensional",
     "output_type": "error",
     "traceback": [
      "\u001b[1;31m---------------------------------------------------------------------------\u001b[0m",
      "\u001b[1;31mValueError\u001b[0m                                Traceback (most recent call last)",
      "\u001b[1;32m~\\AppData\\Local\\Temp/ipykernel_5536/2359725791.py\u001b[0m in \u001b[0;36m<module>\u001b[1;34m\u001b[0m\n\u001b[0;32m      1\u001b[0m \u001b[0mmain_data\u001b[0m\u001b[1;33m[\u001b[0m\u001b[1;34m\"state\"\u001b[0m\u001b[1;33m]\u001b[0m\u001b[1;33m.\u001b[0m\u001b[0mreplace\u001b[0m\u001b[1;33m(\u001b[0m\u001b[1;33m{\u001b[0m\u001b[1;34m\"AZ\"\u001b[0m\u001b[1;33m:\u001b[0m \u001b[1;34m\"Arizona\"\u001b[0m\u001b[1;33m,\u001b[0m \u001b[1;34m\"WA\"\u001b[0m\u001b[1;33m:\u001b[0m \u001b[1;34m\"Washington\"\u001b[0m\u001b[1;33m,\u001b[0m\u001b[1;34m\"Cali\"\u001b[0m\u001b[1;33m:\u001b[0m\u001b[1;34m\"California\"\u001b[0m\u001b[1;33m}\u001b[0m\u001b[1;33m,\u001b[0m \u001b[0minplace\u001b[0m\u001b[1;33m=\u001b[0m\u001b[1;32mTrue\u001b[0m\u001b[1;33m)\u001b[0m\u001b[1;33m\u001b[0m\u001b[1;33m\u001b[0m\u001b[0m\n\u001b[1;32m----> 2\u001b[1;33m \u001b[0mmain_data\u001b[0m\u001b[1;33m.\u001b[0m\u001b[0mstate\u001b[0m\u001b[1;33m.\u001b[0m\u001b[0mvalue_counts\u001b[0m\u001b[1;33m(\u001b[0m\u001b[1;33m)\u001b[0m\u001b[1;33m\u001b[0m\u001b[1;33m\u001b[0m\u001b[0m\n\u001b[0m",
      "\u001b[1;32mE:\\Anaconda\\envs\\DA_Envi\\lib\\site-packages\\pandas\\core\\frame.py\u001b[0m in \u001b[0;36mvalue_counts\u001b[1;34m(self, subset, normalize, sort, ascending, dropna)\u001b[0m\n\u001b[0;32m   6514\u001b[0m             \u001b[0msubset\u001b[0m \u001b[1;33m=\u001b[0m \u001b[0mself\u001b[0m\u001b[1;33m.\u001b[0m\u001b[0mcolumns\u001b[0m\u001b[1;33m.\u001b[0m\u001b[0mtolist\u001b[0m\u001b[1;33m(\u001b[0m\u001b[1;33m)\u001b[0m\u001b[1;33m\u001b[0m\u001b[1;33m\u001b[0m\u001b[0m\n\u001b[0;32m   6515\u001b[0m \u001b[1;33m\u001b[0m\u001b[0m\n\u001b[1;32m-> 6516\u001b[1;33m         \u001b[0mcounts\u001b[0m \u001b[1;33m=\u001b[0m \u001b[0mself\u001b[0m\u001b[1;33m.\u001b[0m\u001b[0mgroupby\u001b[0m\u001b[1;33m(\u001b[0m\u001b[0msubset\u001b[0m\u001b[1;33m,\u001b[0m \u001b[0mdropna\u001b[0m\u001b[1;33m=\u001b[0m\u001b[0mdropna\u001b[0m\u001b[1;33m)\u001b[0m\u001b[1;33m.\u001b[0m\u001b[0mgrouper\u001b[0m\u001b[1;33m.\u001b[0m\u001b[0msize\u001b[0m\u001b[1;33m(\u001b[0m\u001b[1;33m)\u001b[0m\u001b[1;33m\u001b[0m\u001b[1;33m\u001b[0m\u001b[0m\n\u001b[0m\u001b[0;32m   6517\u001b[0m \u001b[1;33m\u001b[0m\u001b[0m\n\u001b[0;32m   6518\u001b[0m         \u001b[1;32mif\u001b[0m \u001b[0msort\u001b[0m\u001b[1;33m:\u001b[0m\u001b[1;33m\u001b[0m\u001b[1;33m\u001b[0m\u001b[0m\n",
      "\u001b[1;32mE:\\Anaconda\\envs\\DA_Envi\\lib\\site-packages\\pandas\\core\\frame.py\u001b[0m in \u001b[0;36mgroupby\u001b[1;34m(self, by, axis, level, as_index, sort, group_keys, squeeze, observed, dropna)\u001b[0m\n\u001b[0;32m   7629\u001b[0m         \u001b[1;31m# error: Argument \"squeeze\" to \"DataFrameGroupBy\" has incompatible type\u001b[0m\u001b[1;33m\u001b[0m\u001b[1;33m\u001b[0m\u001b[1;33m\u001b[0m\u001b[0m\n\u001b[0;32m   7630\u001b[0m         \u001b[1;31m# \"Union[bool, NoDefault]\"; expected \"bool\"\u001b[0m\u001b[1;33m\u001b[0m\u001b[1;33m\u001b[0m\u001b[1;33m\u001b[0m\u001b[0m\n\u001b[1;32m-> 7631\u001b[1;33m         return DataFrameGroupBy(\n\u001b[0m\u001b[0;32m   7632\u001b[0m             \u001b[0mobj\u001b[0m\u001b[1;33m=\u001b[0m\u001b[0mself\u001b[0m\u001b[1;33m,\u001b[0m\u001b[1;33m\u001b[0m\u001b[1;33m\u001b[0m\u001b[0m\n\u001b[0;32m   7633\u001b[0m             \u001b[0mkeys\u001b[0m\u001b[1;33m=\u001b[0m\u001b[0mby\u001b[0m\u001b[1;33m,\u001b[0m\u001b[1;33m\u001b[0m\u001b[1;33m\u001b[0m\u001b[0m\n",
      "\u001b[1;32mE:\\Anaconda\\envs\\DA_Envi\\lib\\site-packages\\pandas\\core\\groupby\\groupby.py\u001b[0m in \u001b[0;36m__init__\u001b[1;34m(self, obj, keys, axis, level, grouper, exclusions, selection, as_index, sort, group_keys, squeeze, observed, mutated, dropna)\u001b[0m\n\u001b[0;32m    887\u001b[0m             \u001b[1;32mfrom\u001b[0m \u001b[0mpandas\u001b[0m\u001b[1;33m.\u001b[0m\u001b[0mcore\u001b[0m\u001b[1;33m.\u001b[0m\u001b[0mgroupby\u001b[0m\u001b[1;33m.\u001b[0m\u001b[0mgrouper\u001b[0m \u001b[1;32mimport\u001b[0m \u001b[0mget_grouper\u001b[0m\u001b[1;33m\u001b[0m\u001b[1;33m\u001b[0m\u001b[0m\n\u001b[0;32m    888\u001b[0m \u001b[1;33m\u001b[0m\u001b[0m\n\u001b[1;32m--> 889\u001b[1;33m             grouper, exclusions, obj = get_grouper(\n\u001b[0m\u001b[0;32m    890\u001b[0m                 \u001b[0mobj\u001b[0m\u001b[1;33m,\u001b[0m\u001b[1;33m\u001b[0m\u001b[1;33m\u001b[0m\u001b[0m\n\u001b[0;32m    891\u001b[0m                 \u001b[0mkeys\u001b[0m\u001b[1;33m,\u001b[0m\u001b[1;33m\u001b[0m\u001b[1;33m\u001b[0m\u001b[0m\n",
      "\u001b[1;32mE:\\Anaconda\\envs\\DA_Envi\\lib\\site-packages\\pandas\\core\\groupby\\grouper.py\u001b[0m in \u001b[0;36mget_grouper\u001b[1;34m(obj, key, axis, level, sort, observed, mutated, validate, dropna)\u001b[0m\n\u001b[0;32m    855\u001b[0m                     \u001b[1;31m# non-unique columns; raise here to get the name in the\u001b[0m\u001b[1;33m\u001b[0m\u001b[1;33m\u001b[0m\u001b[1;33m\u001b[0m\u001b[0m\n\u001b[0;32m    856\u001b[0m                     \u001b[1;31m# exception message\u001b[0m\u001b[1;33m\u001b[0m\u001b[1;33m\u001b[0m\u001b[1;33m\u001b[0m\u001b[0m\n\u001b[1;32m--> 857\u001b[1;33m                     \u001b[1;32mraise\u001b[0m \u001b[0mValueError\u001b[0m\u001b[1;33m(\u001b[0m\u001b[1;34mf\"Grouper for '{name}' not 1-dimensional\"\u001b[0m\u001b[1;33m)\u001b[0m\u001b[1;33m\u001b[0m\u001b[1;33m\u001b[0m\u001b[0m\n\u001b[0m\u001b[0;32m    858\u001b[0m                 \u001b[0mexclusions\u001b[0m\u001b[1;33m.\u001b[0m\u001b[0madd\u001b[0m\u001b[1;33m(\u001b[0m\u001b[0mname\u001b[0m\u001b[1;33m)\u001b[0m\u001b[1;33m\u001b[0m\u001b[1;33m\u001b[0m\u001b[0m\n\u001b[0;32m    859\u001b[0m             \u001b[1;32melif\u001b[0m \u001b[0mobj\u001b[0m\u001b[1;33m.\u001b[0m\u001b[0m_is_level_reference\u001b[0m\u001b[1;33m(\u001b[0m\u001b[0mgpr\u001b[0m\u001b[1;33m,\u001b[0m \u001b[0maxis\u001b[0m\u001b[1;33m=\u001b[0m\u001b[0maxis\u001b[0m\u001b[1;33m)\u001b[0m\u001b[1;33m:\u001b[0m\u001b[1;33m\u001b[0m\u001b[1;33m\u001b[0m\u001b[0m\n",
      "\u001b[1;31mValueError\u001b[0m: Grouper for 'state' not 1-dimensional"
     ]
    }
   ],
   "source": [
    "main_data[\"state\"].replace({\"AZ\": \"Arizona\", \"WA\": \"Washington\",\"Cali\":\"California\"}, inplace=True)\n",
    "main_data.state.value_counts()"
   ]
  },
  {
   "cell_type": "markdown",
   "id": "12838b31",
   "metadata": {},
   "source": [
    "### Removing duplicates"
   ]
  },
  {
   "cell_type": "code",
   "execution_count": 20,
   "id": "b590e40c",
   "metadata": {},
   "outputs": [],
   "source": [
    "main_data.drop_duplicates(inplace=True)"
   ]
  },
  {
   "cell_type": "markdown",
   "id": "d6c46521",
   "metadata": {},
   "source": [
    "###  Replacing null values – Replace missing values with means of the column (for numerical columns)"
   ]
  },
  {
   "cell_type": "code",
   "execution_count": 21,
   "id": "dfc57fde",
   "metadata": {},
   "outputs": [
    {
     "data": {
      "text/html": [
       "<div>\n",
       "<style scoped>\n",
       "    .dataframe tbody tr th:only-of-type {\n",
       "        vertical-align: middle;\n",
       "    }\n",
       "\n",
       "    .dataframe tbody tr th {\n",
       "        vertical-align: top;\n",
       "    }\n",
       "\n",
       "    .dataframe thead th {\n",
       "        text-align: right;\n",
       "    }\n",
       "</style>\n",
       "<table border=\"1\" class=\"dataframe\">\n",
       "  <thead>\n",
       "    <tr style=\"text-align: right;\">\n",
       "      <th></th>\n",
       "      <th>index</th>\n",
       "      <th>state</th>\n",
       "      <th>gender</th>\n",
       "      <th>education</th>\n",
       "      <th>cust_life_val</th>\n",
       "      <th>income</th>\n",
       "      <th>month_prem_auto</th>\n",
       "      <th>no_open_compl</th>\n",
       "      <th>policy_type</th>\n",
       "      <th>veh_class</th>\n",
       "      <th>tot_claim_amt</th>\n",
       "      <th>state</th>\n",
       "      <th>gender</th>\n",
       "    </tr>\n",
       "  </thead>\n",
       "  <tbody>\n",
       "    <tr>\n",
       "      <th>0</th>\n",
       "      <td>0</td>\n",
       "      <td>Washington</td>\n",
       "      <td>U</td>\n",
       "      <td>Master</td>\n",
       "      <td>8028.803803</td>\n",
       "      <td>0.0</td>\n",
       "      <td>1000.0</td>\n",
       "      <td>1/0/00</td>\n",
       "      <td>Personal Auto</td>\n",
       "      <td>Four-Door Car</td>\n",
       "      <td>2.704934</td>\n",
       "      <td>Unknown</td>\n",
       "      <td>U</td>\n",
       "    </tr>\n",
       "    <tr>\n",
       "      <th>1</th>\n",
       "      <td>1</td>\n",
       "      <td>Arizona</td>\n",
       "      <td>U</td>\n",
       "      <td>Bachelor</td>\n",
       "      <td>8028.803803</td>\n",
       "      <td>0.0</td>\n",
       "      <td>94.0</td>\n",
       "      <td>1/0/00</td>\n",
       "      <td>Personal Auto</td>\n",
       "      <td>Four-Door Car</td>\n",
       "      <td>1131.464935</td>\n",
       "      <td>Unknown</td>\n",
       "      <td>U</td>\n",
       "    </tr>\n",
       "    <tr>\n",
       "      <th>2</th>\n",
       "      <td>2</td>\n",
       "      <td>Nevada</td>\n",
       "      <td>U</td>\n",
       "      <td>Bachelor</td>\n",
       "      <td>8028.803803</td>\n",
       "      <td>48767.0</td>\n",
       "      <td>108.0</td>\n",
       "      <td>1/0/00</td>\n",
       "      <td>Personal Auto</td>\n",
       "      <td>Two-Door Car</td>\n",
       "      <td>566.472247</td>\n",
       "      <td>Unknown</td>\n",
       "      <td>U</td>\n",
       "    </tr>\n",
       "    <tr>\n",
       "      <th>3</th>\n",
       "      <td>3</td>\n",
       "      <td>California</td>\n",
       "      <td>U</td>\n",
       "      <td>Bachelor</td>\n",
       "      <td>8028.803803</td>\n",
       "      <td>0.0</td>\n",
       "      <td>106.0</td>\n",
       "      <td>1/0/00</td>\n",
       "      <td>Corporate Auto</td>\n",
       "      <td>SUV</td>\n",
       "      <td>529.881344</td>\n",
       "      <td>Unknown</td>\n",
       "      <td>U</td>\n",
       "    </tr>\n",
       "    <tr>\n",
       "      <th>4</th>\n",
       "      <td>4</td>\n",
       "      <td>Washington</td>\n",
       "      <td>U</td>\n",
       "      <td>High School or Below</td>\n",
       "      <td>8028.803803</td>\n",
       "      <td>36357.0</td>\n",
       "      <td>68.0</td>\n",
       "      <td>1/0/00</td>\n",
       "      <td>Personal Auto</td>\n",
       "      <td>Four-Door Car</td>\n",
       "      <td>17.269323</td>\n",
       "      <td>Unknown</td>\n",
       "      <td>U</td>\n",
       "    </tr>\n",
       "    <tr>\n",
       "      <th>...</th>\n",
       "      <td>...</td>\n",
       "      <td>...</td>\n",
       "      <td>...</td>\n",
       "      <td>...</td>\n",
       "      <td>...</td>\n",
       "      <td>...</td>\n",
       "      <td>...</td>\n",
       "      <td>...</td>\n",
       "      <td>...</td>\n",
       "      <td>...</td>\n",
       "      <td>...</td>\n",
       "      <td>...</td>\n",
       "      <td>...</td>\n",
       "    </tr>\n",
       "    <tr>\n",
       "      <th>12069</th>\n",
       "      <td>7065</td>\n",
       "      <td>Unknown</td>\n",
       "      <td>U</td>\n",
       "      <td>Bachelor</td>\n",
       "      <td>23405.987980</td>\n",
       "      <td>71941.0</td>\n",
       "      <td>73.0</td>\n",
       "      <td>0</td>\n",
       "      <td>Personal Auto</td>\n",
       "      <td>Four-Door Car</td>\n",
       "      <td>198.234764</td>\n",
       "      <td>California</td>\n",
       "      <td>U</td>\n",
       "    </tr>\n",
       "    <tr>\n",
       "      <th>12070</th>\n",
       "      <td>7066</td>\n",
       "      <td>Unknown</td>\n",
       "      <td>U</td>\n",
       "      <td>College</td>\n",
       "      <td>3096.511217</td>\n",
       "      <td>21604.0</td>\n",
       "      <td>79.0</td>\n",
       "      <td>0</td>\n",
       "      <td>Corporate Auto</td>\n",
       "      <td>Four-Door Car</td>\n",
       "      <td>379.200000</td>\n",
       "      <td>California</td>\n",
       "      <td>U</td>\n",
       "    </tr>\n",
       "    <tr>\n",
       "      <th>12071</th>\n",
       "      <td>7067</td>\n",
       "      <td>Unknown</td>\n",
       "      <td>U</td>\n",
       "      <td>Bachelor</td>\n",
       "      <td>8163.890428</td>\n",
       "      <td>0.0</td>\n",
       "      <td>85.0</td>\n",
       "      <td>3</td>\n",
       "      <td>Corporate Auto</td>\n",
       "      <td>Four-Door Car</td>\n",
       "      <td>790.784983</td>\n",
       "      <td>California</td>\n",
       "      <td>U</td>\n",
       "    </tr>\n",
       "    <tr>\n",
       "      <th>12072</th>\n",
       "      <td>7068</td>\n",
       "      <td>Unknown</td>\n",
       "      <td>U</td>\n",
       "      <td>College</td>\n",
       "      <td>7524.442436</td>\n",
       "      <td>21941.0</td>\n",
       "      <td>96.0</td>\n",
       "      <td>0</td>\n",
       "      <td>Personal Auto</td>\n",
       "      <td>Four-Door Car</td>\n",
       "      <td>691.200000</td>\n",
       "      <td>California</td>\n",
       "      <td>U</td>\n",
       "    </tr>\n",
       "    <tr>\n",
       "      <th>12073</th>\n",
       "      <td>7069</td>\n",
       "      <td>Unknown</td>\n",
       "      <td>U</td>\n",
       "      <td>College</td>\n",
       "      <td>2611.836866</td>\n",
       "      <td>0.0</td>\n",
       "      <td>77.0</td>\n",
       "      <td>0</td>\n",
       "      <td>Corporate Auto</td>\n",
       "      <td>Two-Door Car</td>\n",
       "      <td>369.600000</td>\n",
       "      <td>California</td>\n",
       "      <td>U</td>\n",
       "    </tr>\n",
       "  </tbody>\n",
       "</table>\n",
       "<p>12074 rows × 13 columns</p>\n",
       "</div>"
      ],
      "text/plain": [
       "       index       state gender             education  cust_life_val   income  \\\n",
       "0          0  Washington      U                Master    8028.803803      0.0   \n",
       "1          1     Arizona      U              Bachelor    8028.803803      0.0   \n",
       "2          2      Nevada      U              Bachelor    8028.803803  48767.0   \n",
       "3          3  California      U              Bachelor    8028.803803      0.0   \n",
       "4          4  Washington      U  High School or Below    8028.803803  36357.0   \n",
       "...      ...         ...    ...                   ...            ...      ...   \n",
       "12069   7065     Unknown      U              Bachelor   23405.987980  71941.0   \n",
       "12070   7066     Unknown      U               College    3096.511217  21604.0   \n",
       "12071   7067     Unknown      U              Bachelor    8163.890428      0.0   \n",
       "12072   7068     Unknown      U               College    7524.442436  21941.0   \n",
       "12073   7069     Unknown      U               College    2611.836866      0.0   \n",
       "\n",
       "       month_prem_auto no_open_compl     policy_type      veh_class  \\\n",
       "0               1000.0        1/0/00   Personal Auto  Four-Door Car   \n",
       "1                 94.0        1/0/00   Personal Auto  Four-Door Car   \n",
       "2                108.0        1/0/00   Personal Auto   Two-Door Car   \n",
       "3                106.0        1/0/00  Corporate Auto            SUV   \n",
       "4                 68.0        1/0/00   Personal Auto  Four-Door Car   \n",
       "...                ...           ...             ...            ...   \n",
       "12069             73.0             0   Personal Auto  Four-Door Car   \n",
       "12070             79.0             0  Corporate Auto  Four-Door Car   \n",
       "12071             85.0             3  Corporate Auto  Four-Door Car   \n",
       "12072             96.0             0   Personal Auto  Four-Door Car   \n",
       "12073             77.0             0  Corporate Auto   Two-Door Car   \n",
       "\n",
       "       tot_claim_amt       state gender  \n",
       "0           2.704934     Unknown      U  \n",
       "1        1131.464935     Unknown      U  \n",
       "2         566.472247     Unknown      U  \n",
       "3         529.881344     Unknown      U  \n",
       "4          17.269323     Unknown      U  \n",
       "...              ...         ...    ...  \n",
       "12069     198.234764  California      U  \n",
       "12070     379.200000  California      U  \n",
       "12071     790.784983  California      U  \n",
       "12072     691.200000  California      U  \n",
       "12073     369.600000  California      U  \n",
       "\n",
       "[12074 rows x 13 columns]"
      ]
     },
     "execution_count": 21,
     "metadata": {},
     "output_type": "execute_result"
    }
   ],
   "source": [
    "average_cust_life_val= np.mean(main_data[\"cust_life_val\"])\n",
    "main_data[\"cust_life_val\"]= main_data.cust_life_val.fillna(average_cust_life_val)\n",
    "main_data"
   ]
  },
  {
   "cell_type": "code",
   "execution_count": 22,
   "id": "c9373fec",
   "metadata": {},
   "outputs": [],
   "source": [
    "main_data[main_data[\"income\"].isna()==True]\n",
    "main_data = main_data.drop(labels=[1071], axis=0)\n"
   ]
  },
  {
   "cell_type": "markdown",
   "id": "a4924ea1",
   "metadata": {},
   "source": [
    "# Activity 2"
   ]
  },
  {
   "cell_type": "markdown",
   "id": "0c66753c",
   "metadata": {},
   "source": [
    "### Bucketing the data - Write a function to replace column \"State\" to different zones. California as West Region, Oregon as North West, and Washington as East, and Arizona and Nevada as Central"
   ]
  },
  {
   "cell_type": "code",
   "execution_count": 23,
   "id": "6ad09c02",
   "metadata": {},
   "outputs": [
    {
     "ename": "ValueError",
     "evalue": "Grouper for 'state' not 1-dimensional",
     "output_type": "error",
     "traceback": [
      "\u001b[1;31m---------------------------------------------------------------------------\u001b[0m",
      "\u001b[1;31mValueError\u001b[0m                                Traceback (most recent call last)",
      "\u001b[1;32m~\\AppData\\Local\\Temp/ipykernel_5536/3141248089.py\u001b[0m in \u001b[0;36m<module>\u001b[1;34m\u001b[0m\n\u001b[1;32m----> 1\u001b[1;33m \u001b[0mmain_data\u001b[0m\u001b[1;33m.\u001b[0m\u001b[0mvalue_counts\u001b[0m\u001b[1;33m(\u001b[0m\u001b[1;34m\"state\"\u001b[0m\u001b[1;33m)\u001b[0m\u001b[1;33m\u001b[0m\u001b[1;33m\u001b[0m\u001b[0m\n\u001b[0m",
      "\u001b[1;32mE:\\Anaconda\\envs\\DA_Envi\\lib\\site-packages\\pandas\\core\\frame.py\u001b[0m in \u001b[0;36mvalue_counts\u001b[1;34m(self, subset, normalize, sort, ascending, dropna)\u001b[0m\n\u001b[0;32m   6514\u001b[0m             \u001b[0msubset\u001b[0m \u001b[1;33m=\u001b[0m \u001b[0mself\u001b[0m\u001b[1;33m.\u001b[0m\u001b[0mcolumns\u001b[0m\u001b[1;33m.\u001b[0m\u001b[0mtolist\u001b[0m\u001b[1;33m(\u001b[0m\u001b[1;33m)\u001b[0m\u001b[1;33m\u001b[0m\u001b[1;33m\u001b[0m\u001b[0m\n\u001b[0;32m   6515\u001b[0m \u001b[1;33m\u001b[0m\u001b[0m\n\u001b[1;32m-> 6516\u001b[1;33m         \u001b[0mcounts\u001b[0m \u001b[1;33m=\u001b[0m \u001b[0mself\u001b[0m\u001b[1;33m.\u001b[0m\u001b[0mgroupby\u001b[0m\u001b[1;33m(\u001b[0m\u001b[0msubset\u001b[0m\u001b[1;33m,\u001b[0m \u001b[0mdropna\u001b[0m\u001b[1;33m=\u001b[0m\u001b[0mdropna\u001b[0m\u001b[1;33m)\u001b[0m\u001b[1;33m.\u001b[0m\u001b[0mgrouper\u001b[0m\u001b[1;33m.\u001b[0m\u001b[0msize\u001b[0m\u001b[1;33m(\u001b[0m\u001b[1;33m)\u001b[0m\u001b[1;33m\u001b[0m\u001b[1;33m\u001b[0m\u001b[0m\n\u001b[0m\u001b[0;32m   6517\u001b[0m \u001b[1;33m\u001b[0m\u001b[0m\n\u001b[0;32m   6518\u001b[0m         \u001b[1;32mif\u001b[0m \u001b[0msort\u001b[0m\u001b[1;33m:\u001b[0m\u001b[1;33m\u001b[0m\u001b[1;33m\u001b[0m\u001b[0m\n",
      "\u001b[1;32mE:\\Anaconda\\envs\\DA_Envi\\lib\\site-packages\\pandas\\core\\frame.py\u001b[0m in \u001b[0;36mgroupby\u001b[1;34m(self, by, axis, level, as_index, sort, group_keys, squeeze, observed, dropna)\u001b[0m\n\u001b[0;32m   7629\u001b[0m         \u001b[1;31m# error: Argument \"squeeze\" to \"DataFrameGroupBy\" has incompatible type\u001b[0m\u001b[1;33m\u001b[0m\u001b[1;33m\u001b[0m\u001b[1;33m\u001b[0m\u001b[0m\n\u001b[0;32m   7630\u001b[0m         \u001b[1;31m# \"Union[bool, NoDefault]\"; expected \"bool\"\u001b[0m\u001b[1;33m\u001b[0m\u001b[1;33m\u001b[0m\u001b[1;33m\u001b[0m\u001b[0m\n\u001b[1;32m-> 7631\u001b[1;33m         return DataFrameGroupBy(\n\u001b[0m\u001b[0;32m   7632\u001b[0m             \u001b[0mobj\u001b[0m\u001b[1;33m=\u001b[0m\u001b[0mself\u001b[0m\u001b[1;33m,\u001b[0m\u001b[1;33m\u001b[0m\u001b[1;33m\u001b[0m\u001b[0m\n\u001b[0;32m   7633\u001b[0m             \u001b[0mkeys\u001b[0m\u001b[1;33m=\u001b[0m\u001b[0mby\u001b[0m\u001b[1;33m,\u001b[0m\u001b[1;33m\u001b[0m\u001b[1;33m\u001b[0m\u001b[0m\n",
      "\u001b[1;32mE:\\Anaconda\\envs\\DA_Envi\\lib\\site-packages\\pandas\\core\\groupby\\groupby.py\u001b[0m in \u001b[0;36m__init__\u001b[1;34m(self, obj, keys, axis, level, grouper, exclusions, selection, as_index, sort, group_keys, squeeze, observed, mutated, dropna)\u001b[0m\n\u001b[0;32m    887\u001b[0m             \u001b[1;32mfrom\u001b[0m \u001b[0mpandas\u001b[0m\u001b[1;33m.\u001b[0m\u001b[0mcore\u001b[0m\u001b[1;33m.\u001b[0m\u001b[0mgroupby\u001b[0m\u001b[1;33m.\u001b[0m\u001b[0mgrouper\u001b[0m \u001b[1;32mimport\u001b[0m \u001b[0mget_grouper\u001b[0m\u001b[1;33m\u001b[0m\u001b[1;33m\u001b[0m\u001b[0m\n\u001b[0;32m    888\u001b[0m \u001b[1;33m\u001b[0m\u001b[0m\n\u001b[1;32m--> 889\u001b[1;33m             grouper, exclusions, obj = get_grouper(\n\u001b[0m\u001b[0;32m    890\u001b[0m                 \u001b[0mobj\u001b[0m\u001b[1;33m,\u001b[0m\u001b[1;33m\u001b[0m\u001b[1;33m\u001b[0m\u001b[0m\n\u001b[0;32m    891\u001b[0m                 \u001b[0mkeys\u001b[0m\u001b[1;33m,\u001b[0m\u001b[1;33m\u001b[0m\u001b[1;33m\u001b[0m\u001b[0m\n",
      "\u001b[1;32mE:\\Anaconda\\envs\\DA_Envi\\lib\\site-packages\\pandas\\core\\groupby\\grouper.py\u001b[0m in \u001b[0;36mget_grouper\u001b[1;34m(obj, key, axis, level, sort, observed, mutated, validate, dropna)\u001b[0m\n\u001b[0;32m    855\u001b[0m                     \u001b[1;31m# non-unique columns; raise here to get the name in the\u001b[0m\u001b[1;33m\u001b[0m\u001b[1;33m\u001b[0m\u001b[1;33m\u001b[0m\u001b[0m\n\u001b[0;32m    856\u001b[0m                     \u001b[1;31m# exception message\u001b[0m\u001b[1;33m\u001b[0m\u001b[1;33m\u001b[0m\u001b[1;33m\u001b[0m\u001b[0m\n\u001b[1;32m--> 857\u001b[1;33m                     \u001b[1;32mraise\u001b[0m \u001b[0mValueError\u001b[0m\u001b[1;33m(\u001b[0m\u001b[1;34mf\"Grouper for '{name}' not 1-dimensional\"\u001b[0m\u001b[1;33m)\u001b[0m\u001b[1;33m\u001b[0m\u001b[1;33m\u001b[0m\u001b[0m\n\u001b[0m\u001b[0;32m    858\u001b[0m                 \u001b[0mexclusions\u001b[0m\u001b[1;33m.\u001b[0m\u001b[0madd\u001b[0m\u001b[1;33m(\u001b[0m\u001b[0mname\u001b[0m\u001b[1;33m)\u001b[0m\u001b[1;33m\u001b[0m\u001b[1;33m\u001b[0m\u001b[0m\n\u001b[0;32m    859\u001b[0m             \u001b[1;32melif\u001b[0m \u001b[0mobj\u001b[0m\u001b[1;33m.\u001b[0m\u001b[0m_is_level_reference\u001b[0m\u001b[1;33m(\u001b[0m\u001b[0mgpr\u001b[0m\u001b[1;33m,\u001b[0m \u001b[0maxis\u001b[0m\u001b[1;33m=\u001b[0m\u001b[0maxis\u001b[0m\u001b[1;33m)\u001b[0m\u001b[1;33m:\u001b[0m\u001b[1;33m\u001b[0m\u001b[1;33m\u001b[0m\u001b[0m\n",
      "\u001b[1;31mValueError\u001b[0m: Grouper for 'state' not 1-dimensional"
     ]
    }
   ],
   "source": [
    "main_data.value_counts(\"state\")"
   ]
  },
  {
   "cell_type": "code",
   "execution_count": 24,
   "id": "0c222599",
   "metadata": {},
   "outputs": [],
   "source": [
    "def classifier(x):\n",
    "    if x in [\"California\"]:\n",
    "        return \"West Region\"\n",
    "    elif x in [\"Oregon\"]:\n",
    "        return \"North West\"\n",
    "    elif x in [\"Washington\"]:\n",
    "        return \"East\"\n",
    "    else:\n",
    "        return \"Central\""
   ]
  },
  {
   "cell_type": "code",
   "execution_count": 25,
   "id": "8dcb3f54",
   "metadata": {},
   "outputs": [
    {
     "data": {
      "text/html": [
       "<div>\n",
       "<style scoped>\n",
       "    .dataframe tbody tr th:only-of-type {\n",
       "        vertical-align: middle;\n",
       "    }\n",
       "\n",
       "    .dataframe tbody tr th {\n",
       "        vertical-align: top;\n",
       "    }\n",
       "\n",
       "    .dataframe thead th {\n",
       "        text-align: right;\n",
       "    }\n",
       "</style>\n",
       "<table border=\"1\" class=\"dataframe\">\n",
       "  <thead>\n",
       "    <tr style=\"text-align: right;\">\n",
       "      <th></th>\n",
       "      <th>state</th>\n",
       "      <th>state</th>\n",
       "    </tr>\n",
       "  </thead>\n",
       "  <tbody>\n",
       "    <tr>\n",
       "      <th>0</th>\n",
       "      <td>Washington</td>\n",
       "      <td>Unknown</td>\n",
       "    </tr>\n",
       "    <tr>\n",
       "      <th>1</th>\n",
       "      <td>Arizona</td>\n",
       "      <td>Unknown</td>\n",
       "    </tr>\n",
       "    <tr>\n",
       "      <th>2</th>\n",
       "      <td>Nevada</td>\n",
       "      <td>Unknown</td>\n",
       "    </tr>\n",
       "    <tr>\n",
       "      <th>3</th>\n",
       "      <td>California</td>\n",
       "      <td>Unknown</td>\n",
       "    </tr>\n",
       "    <tr>\n",
       "      <th>4</th>\n",
       "      <td>Washington</td>\n",
       "      <td>Unknown</td>\n",
       "    </tr>\n",
       "    <tr>\n",
       "      <th>...</th>\n",
       "      <td>...</td>\n",
       "      <td>...</td>\n",
       "    </tr>\n",
       "    <tr>\n",
       "      <th>12069</th>\n",
       "      <td>Unknown</td>\n",
       "      <td>California</td>\n",
       "    </tr>\n",
       "    <tr>\n",
       "      <th>12070</th>\n",
       "      <td>Unknown</td>\n",
       "      <td>California</td>\n",
       "    </tr>\n",
       "    <tr>\n",
       "      <th>12071</th>\n",
       "      <td>Unknown</td>\n",
       "      <td>California</td>\n",
       "    </tr>\n",
       "    <tr>\n",
       "      <th>12072</th>\n",
       "      <td>Unknown</td>\n",
       "      <td>California</td>\n",
       "    </tr>\n",
       "    <tr>\n",
       "      <th>12073</th>\n",
       "      <td>Unknown</td>\n",
       "      <td>California</td>\n",
       "    </tr>\n",
       "  </tbody>\n",
       "</table>\n",
       "<p>12073 rows × 2 columns</p>\n",
       "</div>"
      ],
      "text/plain": [
       "            state       state\n",
       "0      Washington     Unknown\n",
       "1         Arizona     Unknown\n",
       "2          Nevada     Unknown\n",
       "3      California     Unknown\n",
       "4      Washington     Unknown\n",
       "...           ...         ...\n",
       "12069     Unknown  California\n",
       "12070     Unknown  California\n",
       "12071     Unknown  California\n",
       "12072     Unknown  California\n",
       "12073     Unknown  California\n",
       "\n",
       "[12073 rows x 2 columns]"
      ]
     },
     "execution_count": 25,
     "metadata": {},
     "output_type": "execute_result"
    }
   ],
   "source": [
    "main_data[\"state\"]"
   ]
  },
  {
   "cell_type": "code",
   "execution_count": 26,
   "id": "643e420a",
   "metadata": {},
   "outputs": [
    {
     "ename": "ValueError",
     "evalue": "The truth value of a Series is ambiguous. Use a.empty, a.bool(), a.item(), a.any() or a.all().",
     "output_type": "error",
     "traceback": [
      "\u001b[1;31m---------------------------------------------------------------------------\u001b[0m",
      "\u001b[1;31mValueError\u001b[0m                                Traceback (most recent call last)",
      "\u001b[1;32m~\\AppData\\Local\\Temp/ipykernel_5536/4249133505.py\u001b[0m in \u001b[0;36m<module>\u001b[1;34m\u001b[0m\n\u001b[1;32m----> 1\u001b[1;33m \u001b[0mmain_data\u001b[0m\u001b[1;33m[\u001b[0m\u001b[1;34m\"region\"\u001b[0m\u001b[1;33m]\u001b[0m\u001b[1;33m=\u001b[0m \u001b[0mmain_data\u001b[0m\u001b[1;33m.\u001b[0m\u001b[0mstate\u001b[0m\u001b[1;33m.\u001b[0m\u001b[0mapply\u001b[0m\u001b[1;33m(\u001b[0m\u001b[1;32mlambda\u001b[0m \u001b[0mx\u001b[0m\u001b[1;33m:\u001b[0m \u001b[0mclassifier\u001b[0m\u001b[1;33m(\u001b[0m\u001b[0mx\u001b[0m\u001b[1;33m)\u001b[0m\u001b[1;33m)\u001b[0m\u001b[1;33m\u001b[0m\u001b[1;33m\u001b[0m\u001b[0m\n\u001b[0m\u001b[0;32m      2\u001b[0m \u001b[0mmain_data\u001b[0m\u001b[1;33m\u001b[0m\u001b[1;33m\u001b[0m\u001b[0m\n",
      "\u001b[1;32mE:\\Anaconda\\envs\\DA_Envi\\lib\\site-packages\\pandas\\core\\frame.py\u001b[0m in \u001b[0;36mapply\u001b[1;34m(self, func, axis, raw, result_type, args, **kwargs)\u001b[0m\n\u001b[0;32m   8738\u001b[0m             \u001b[0mkwargs\u001b[0m\u001b[1;33m=\u001b[0m\u001b[0mkwargs\u001b[0m\u001b[1;33m,\u001b[0m\u001b[1;33m\u001b[0m\u001b[1;33m\u001b[0m\u001b[0m\n\u001b[0;32m   8739\u001b[0m         )\n\u001b[1;32m-> 8740\u001b[1;33m         \u001b[1;32mreturn\u001b[0m \u001b[0mop\u001b[0m\u001b[1;33m.\u001b[0m\u001b[0mapply\u001b[0m\u001b[1;33m(\u001b[0m\u001b[1;33m)\u001b[0m\u001b[1;33m\u001b[0m\u001b[1;33m\u001b[0m\u001b[0m\n\u001b[0m\u001b[0;32m   8741\u001b[0m \u001b[1;33m\u001b[0m\u001b[0m\n\u001b[0;32m   8742\u001b[0m     def applymap(\n",
      "\u001b[1;32mE:\\Anaconda\\envs\\DA_Envi\\lib\\site-packages\\pandas\\core\\apply.py\u001b[0m in \u001b[0;36mapply\u001b[1;34m(self)\u001b[0m\n\u001b[0;32m    686\u001b[0m             \u001b[1;32mreturn\u001b[0m \u001b[0mself\u001b[0m\u001b[1;33m.\u001b[0m\u001b[0mapply_raw\u001b[0m\u001b[1;33m(\u001b[0m\u001b[1;33m)\u001b[0m\u001b[1;33m\u001b[0m\u001b[1;33m\u001b[0m\u001b[0m\n\u001b[0;32m    687\u001b[0m \u001b[1;33m\u001b[0m\u001b[0m\n\u001b[1;32m--> 688\u001b[1;33m         \u001b[1;32mreturn\u001b[0m \u001b[0mself\u001b[0m\u001b[1;33m.\u001b[0m\u001b[0mapply_standard\u001b[0m\u001b[1;33m(\u001b[0m\u001b[1;33m)\u001b[0m\u001b[1;33m\u001b[0m\u001b[1;33m\u001b[0m\u001b[0m\n\u001b[0m\u001b[0;32m    689\u001b[0m \u001b[1;33m\u001b[0m\u001b[0m\n\u001b[0;32m    690\u001b[0m     \u001b[1;32mdef\u001b[0m \u001b[0magg\u001b[0m\u001b[1;33m(\u001b[0m\u001b[0mself\u001b[0m\u001b[1;33m)\u001b[0m\u001b[1;33m:\u001b[0m\u001b[1;33m\u001b[0m\u001b[1;33m\u001b[0m\u001b[0m\n",
      "\u001b[1;32mE:\\Anaconda\\envs\\DA_Envi\\lib\\site-packages\\pandas\\core\\apply.py\u001b[0m in \u001b[0;36mapply_standard\u001b[1;34m(self)\u001b[0m\n\u001b[0;32m    810\u001b[0m \u001b[1;33m\u001b[0m\u001b[0m\n\u001b[0;32m    811\u001b[0m     \u001b[1;32mdef\u001b[0m \u001b[0mapply_standard\u001b[0m\u001b[1;33m(\u001b[0m\u001b[0mself\u001b[0m\u001b[1;33m)\u001b[0m\u001b[1;33m:\u001b[0m\u001b[1;33m\u001b[0m\u001b[1;33m\u001b[0m\u001b[0m\n\u001b[1;32m--> 812\u001b[1;33m         \u001b[0mresults\u001b[0m\u001b[1;33m,\u001b[0m \u001b[0mres_index\u001b[0m \u001b[1;33m=\u001b[0m \u001b[0mself\u001b[0m\u001b[1;33m.\u001b[0m\u001b[0mapply_series_generator\u001b[0m\u001b[1;33m(\u001b[0m\u001b[1;33m)\u001b[0m\u001b[1;33m\u001b[0m\u001b[1;33m\u001b[0m\u001b[0m\n\u001b[0m\u001b[0;32m    813\u001b[0m \u001b[1;33m\u001b[0m\u001b[0m\n\u001b[0;32m    814\u001b[0m         \u001b[1;31m# wrap results\u001b[0m\u001b[1;33m\u001b[0m\u001b[1;33m\u001b[0m\u001b[1;33m\u001b[0m\u001b[0m\n",
      "\u001b[1;32mE:\\Anaconda\\envs\\DA_Envi\\lib\\site-packages\\pandas\\core\\apply.py\u001b[0m in \u001b[0;36mapply_series_generator\u001b[1;34m(self)\u001b[0m\n\u001b[0;32m    826\u001b[0m             \u001b[1;32mfor\u001b[0m \u001b[0mi\u001b[0m\u001b[1;33m,\u001b[0m \u001b[0mv\u001b[0m \u001b[1;32min\u001b[0m \u001b[0menumerate\u001b[0m\u001b[1;33m(\u001b[0m\u001b[0mseries_gen\u001b[0m\u001b[1;33m)\u001b[0m\u001b[1;33m:\u001b[0m\u001b[1;33m\u001b[0m\u001b[1;33m\u001b[0m\u001b[0m\n\u001b[0;32m    827\u001b[0m                 \u001b[1;31m# ignore SettingWithCopy here in case the user mutates\u001b[0m\u001b[1;33m\u001b[0m\u001b[1;33m\u001b[0m\u001b[1;33m\u001b[0m\u001b[0m\n\u001b[1;32m--> 828\u001b[1;33m                 \u001b[0mresults\u001b[0m\u001b[1;33m[\u001b[0m\u001b[0mi\u001b[0m\u001b[1;33m]\u001b[0m \u001b[1;33m=\u001b[0m \u001b[0mself\u001b[0m\u001b[1;33m.\u001b[0m\u001b[0mf\u001b[0m\u001b[1;33m(\u001b[0m\u001b[0mv\u001b[0m\u001b[1;33m)\u001b[0m\u001b[1;33m\u001b[0m\u001b[1;33m\u001b[0m\u001b[0m\n\u001b[0m\u001b[0;32m    829\u001b[0m                 \u001b[1;32mif\u001b[0m \u001b[0misinstance\u001b[0m\u001b[1;33m(\u001b[0m\u001b[0mresults\u001b[0m\u001b[1;33m[\u001b[0m\u001b[0mi\u001b[0m\u001b[1;33m]\u001b[0m\u001b[1;33m,\u001b[0m \u001b[0mABCSeries\u001b[0m\u001b[1;33m)\u001b[0m\u001b[1;33m:\u001b[0m\u001b[1;33m\u001b[0m\u001b[1;33m\u001b[0m\u001b[0m\n\u001b[0;32m    830\u001b[0m                     \u001b[1;31m# If we have a view on v, we need to make a copy because\u001b[0m\u001b[1;33m\u001b[0m\u001b[1;33m\u001b[0m\u001b[1;33m\u001b[0m\u001b[0m\n",
      "\u001b[1;32m~\\AppData\\Local\\Temp/ipykernel_5536/4249133505.py\u001b[0m in \u001b[0;36m<lambda>\u001b[1;34m(x)\u001b[0m\n\u001b[1;32m----> 1\u001b[1;33m \u001b[0mmain_data\u001b[0m\u001b[1;33m[\u001b[0m\u001b[1;34m\"region\"\u001b[0m\u001b[1;33m]\u001b[0m\u001b[1;33m=\u001b[0m \u001b[0mmain_data\u001b[0m\u001b[1;33m.\u001b[0m\u001b[0mstate\u001b[0m\u001b[1;33m.\u001b[0m\u001b[0mapply\u001b[0m\u001b[1;33m(\u001b[0m\u001b[1;32mlambda\u001b[0m \u001b[0mx\u001b[0m\u001b[1;33m:\u001b[0m \u001b[0mclassifier\u001b[0m\u001b[1;33m(\u001b[0m\u001b[0mx\u001b[0m\u001b[1;33m)\u001b[0m\u001b[1;33m)\u001b[0m\u001b[1;33m\u001b[0m\u001b[1;33m\u001b[0m\u001b[0m\n\u001b[0m\u001b[0;32m      2\u001b[0m \u001b[0mmain_data\u001b[0m\u001b[1;33m\u001b[0m\u001b[1;33m\u001b[0m\u001b[0m\n",
      "\u001b[1;32m~\\AppData\\Local\\Temp/ipykernel_5536/864377187.py\u001b[0m in \u001b[0;36mclassifier\u001b[1;34m(x)\u001b[0m\n\u001b[0;32m      1\u001b[0m \u001b[1;32mdef\u001b[0m \u001b[0mclassifier\u001b[0m\u001b[1;33m(\u001b[0m\u001b[0mx\u001b[0m\u001b[1;33m)\u001b[0m\u001b[1;33m:\u001b[0m\u001b[1;33m\u001b[0m\u001b[1;33m\u001b[0m\u001b[0m\n\u001b[1;32m----> 2\u001b[1;33m     \u001b[1;32mif\u001b[0m \u001b[0mx\u001b[0m \u001b[1;32min\u001b[0m \u001b[1;33m[\u001b[0m\u001b[1;34m\"California\"\u001b[0m\u001b[1;33m]\u001b[0m\u001b[1;33m:\u001b[0m\u001b[1;33m\u001b[0m\u001b[1;33m\u001b[0m\u001b[0m\n\u001b[0m\u001b[0;32m      3\u001b[0m         \u001b[1;32mreturn\u001b[0m \u001b[1;34m\"West Region\"\u001b[0m\u001b[1;33m\u001b[0m\u001b[1;33m\u001b[0m\u001b[0m\n\u001b[0;32m      4\u001b[0m     \u001b[1;32melif\u001b[0m \u001b[0mx\u001b[0m \u001b[1;32min\u001b[0m \u001b[1;33m[\u001b[0m\u001b[1;34m\"Oregon\"\u001b[0m\u001b[1;33m]\u001b[0m\u001b[1;33m:\u001b[0m\u001b[1;33m\u001b[0m\u001b[1;33m\u001b[0m\u001b[0m\n\u001b[0;32m      5\u001b[0m         \u001b[1;32mreturn\u001b[0m \u001b[1;34m\"North West\"\u001b[0m\u001b[1;33m\u001b[0m\u001b[1;33m\u001b[0m\u001b[0m\n",
      "\u001b[1;32mE:\\Anaconda\\envs\\DA_Envi\\lib\\site-packages\\pandas\\core\\generic.py\u001b[0m in \u001b[0;36m__nonzero__\u001b[1;34m(self)\u001b[0m\n\u001b[0;32m   1535\u001b[0m     \u001b[1;33m@\u001b[0m\u001b[0mfinal\u001b[0m\u001b[1;33m\u001b[0m\u001b[1;33m\u001b[0m\u001b[0m\n\u001b[0;32m   1536\u001b[0m     \u001b[1;32mdef\u001b[0m \u001b[0m__nonzero__\u001b[0m\u001b[1;33m(\u001b[0m\u001b[0mself\u001b[0m\u001b[1;33m)\u001b[0m\u001b[1;33m:\u001b[0m\u001b[1;33m\u001b[0m\u001b[1;33m\u001b[0m\u001b[0m\n\u001b[1;32m-> 1537\u001b[1;33m         raise ValueError(\n\u001b[0m\u001b[0;32m   1538\u001b[0m             \u001b[1;34mf\"The truth value of a {type(self).__name__} is ambiguous. \"\u001b[0m\u001b[1;33m\u001b[0m\u001b[1;33m\u001b[0m\u001b[0m\n\u001b[0;32m   1539\u001b[0m             \u001b[1;34m\"Use a.empty, a.bool(), a.item(), a.any() or a.all().\"\u001b[0m\u001b[1;33m\u001b[0m\u001b[1;33m\u001b[0m\u001b[0m\n",
      "\u001b[1;31mValueError\u001b[0m: The truth value of a Series is ambiguous. Use a.empty, a.bool(), a.item(), a.any() or a.all()."
     ]
    }
   ],
   "source": [
    "main_data[\"region\"]= main_data.state.apply(lambda x: classifier(x))\n",
    "main_data"
   ]
  },
  {
   "cell_type": "markdown",
   "id": "82232332",
   "metadata": {},
   "source": [
    "### Standardizing the data – Use string functions to standardize the text data (lower case) "
   ]
  },
  {
   "cell_type": "code",
   "execution_count": 27,
   "id": "a664a848",
   "metadata": {},
   "outputs": [
    {
     "ename": "AttributeError",
     "evalue": "'DataFrame' object has no attribute 'str'",
     "output_type": "error",
     "traceback": [
      "\u001b[1;31m---------------------------------------------------------------------------\u001b[0m",
      "\u001b[1;31mAttributeError\u001b[0m                            Traceback (most recent call last)",
      "\u001b[1;32m~\\AppData\\Local\\Temp/ipykernel_5536/2437396066.py\u001b[0m in \u001b[0;36m<module>\u001b[1;34m\u001b[0m\n\u001b[1;32m----> 1\u001b[1;33m \u001b[0mmain_data\u001b[0m\u001b[1;33m[\u001b[0m\u001b[1;34m\"state\"\u001b[0m\u001b[1;33m]\u001b[0m\u001b[1;33m=\u001b[0m \u001b[0mmain_data\u001b[0m\u001b[1;33m[\u001b[0m\u001b[1;34m\"state\"\u001b[0m\u001b[1;33m]\u001b[0m\u001b[1;33m.\u001b[0m\u001b[0mstr\u001b[0m\u001b[1;33m.\u001b[0m\u001b[0mlower\u001b[0m\u001b[1;33m(\u001b[0m\u001b[1;33m)\u001b[0m\u001b[1;33m\u001b[0m\u001b[1;33m\u001b[0m\u001b[0m\n\u001b[0m\u001b[0;32m      2\u001b[0m \u001b[0mmain_data\u001b[0m\u001b[1;33m[\u001b[0m\u001b[1;34m\"education\"\u001b[0m\u001b[1;33m]\u001b[0m\u001b[1;33m=\u001b[0m \u001b[0mmain_data\u001b[0m\u001b[1;33m[\u001b[0m\u001b[1;34m\"education\"\u001b[0m\u001b[1;33m]\u001b[0m\u001b[1;33m.\u001b[0m\u001b[0mstr\u001b[0m\u001b[1;33m.\u001b[0m\u001b[0mlower\u001b[0m\u001b[1;33m(\u001b[0m\u001b[1;33m)\u001b[0m\u001b[1;33m\u001b[0m\u001b[1;33m\u001b[0m\u001b[0m\n\u001b[0;32m      3\u001b[0m \u001b[0mmain_data\u001b[0m\u001b[1;33m[\u001b[0m\u001b[1;34m\"policy_type\"\u001b[0m\u001b[1;33m]\u001b[0m\u001b[1;33m=\u001b[0m \u001b[0mmain_data\u001b[0m\u001b[1;33m[\u001b[0m\u001b[1;34m\"policy_type\"\u001b[0m\u001b[1;33m]\u001b[0m\u001b[1;33m.\u001b[0m\u001b[0mstr\u001b[0m\u001b[1;33m.\u001b[0m\u001b[0mlower\u001b[0m\u001b[1;33m(\u001b[0m\u001b[1;33m)\u001b[0m\u001b[1;33m\u001b[0m\u001b[1;33m\u001b[0m\u001b[0m\n\u001b[0;32m      4\u001b[0m \u001b[0mmain_data\u001b[0m\u001b[1;33m[\u001b[0m\u001b[1;34m\"veh_class\"\u001b[0m\u001b[1;33m]\u001b[0m\u001b[1;33m=\u001b[0m \u001b[0mmain_data\u001b[0m\u001b[1;33m[\u001b[0m\u001b[1;34m\"veh_class\"\u001b[0m\u001b[1;33m]\u001b[0m\u001b[1;33m.\u001b[0m\u001b[0mstr\u001b[0m\u001b[1;33m.\u001b[0m\u001b[0mlower\u001b[0m\u001b[1;33m(\u001b[0m\u001b[1;33m)\u001b[0m\u001b[1;33m\u001b[0m\u001b[1;33m\u001b[0m\u001b[0m\n\u001b[0;32m      5\u001b[0m \u001b[0mmain_data\u001b[0m\u001b[1;33m[\u001b[0m\u001b[1;34m\"region\"\u001b[0m\u001b[1;33m]\u001b[0m\u001b[1;33m=\u001b[0m \u001b[0mmain_data\u001b[0m\u001b[1;33m[\u001b[0m\u001b[1;34m\"region\"\u001b[0m\u001b[1;33m]\u001b[0m\u001b[1;33m.\u001b[0m\u001b[0mstr\u001b[0m\u001b[1;33m.\u001b[0m\u001b[0mlower\u001b[0m\u001b[1;33m(\u001b[0m\u001b[1;33m)\u001b[0m\u001b[1;33m\u001b[0m\u001b[1;33m\u001b[0m\u001b[0m\n",
      "\u001b[1;32mE:\\Anaconda\\envs\\DA_Envi\\lib\\site-packages\\pandas\\core\\generic.py\u001b[0m in \u001b[0;36m__getattr__\u001b[1;34m(self, name)\u001b[0m\n\u001b[0;32m   5485\u001b[0m         ):\n\u001b[0;32m   5486\u001b[0m             \u001b[1;32mreturn\u001b[0m \u001b[0mself\u001b[0m\u001b[1;33m[\u001b[0m\u001b[0mname\u001b[0m\u001b[1;33m]\u001b[0m\u001b[1;33m\u001b[0m\u001b[1;33m\u001b[0m\u001b[0m\n\u001b[1;32m-> 5487\u001b[1;33m         \u001b[1;32mreturn\u001b[0m \u001b[0mobject\u001b[0m\u001b[1;33m.\u001b[0m\u001b[0m__getattribute__\u001b[0m\u001b[1;33m(\u001b[0m\u001b[0mself\u001b[0m\u001b[1;33m,\u001b[0m \u001b[0mname\u001b[0m\u001b[1;33m)\u001b[0m\u001b[1;33m\u001b[0m\u001b[1;33m\u001b[0m\u001b[0m\n\u001b[0m\u001b[0;32m   5488\u001b[0m \u001b[1;33m\u001b[0m\u001b[0m\n\u001b[0;32m   5489\u001b[0m     \u001b[1;32mdef\u001b[0m \u001b[0m__setattr__\u001b[0m\u001b[1;33m(\u001b[0m\u001b[0mself\u001b[0m\u001b[1;33m,\u001b[0m \u001b[0mname\u001b[0m\u001b[1;33m:\u001b[0m \u001b[0mstr\u001b[0m\u001b[1;33m,\u001b[0m \u001b[0mvalue\u001b[0m\u001b[1;33m)\u001b[0m \u001b[1;33m->\u001b[0m \u001b[1;32mNone\u001b[0m\u001b[1;33m:\u001b[0m\u001b[1;33m\u001b[0m\u001b[1;33m\u001b[0m\u001b[0m\n",
      "\u001b[1;31mAttributeError\u001b[0m: 'DataFrame' object has no attribute 'str'"
     ]
    }
   ],
   "source": [
    "main_data[\"state\"]= main_data[\"state\"].str.lower()\n",
    "main_data[\"education\"]= main_data[\"education\"].str.lower()\n",
    "main_data[\"policy_type\"]= main_data[\"policy_type\"].str.lower()\n",
    "main_data[\"veh_class\"]= main_data[\"veh_class\"].str.lower()\n",
    "main_data[\"region\"]= main_data[\"region\"].str.lower()"
   ]
  },
  {
   "cell_type": "markdown",
   "id": "ceca9b39",
   "metadata": {},
   "source": [
    "# Activity 3"
   ]
  },
  {
   "cell_type": "markdown",
   "id": "bbd47f45",
   "metadata": {},
   "source": [
    "### Which columns are numerical and which columns are categorical? "
   ]
  },
  {
   "cell_type": "code",
   "execution_count": 89,
   "id": "059397ee",
   "metadata": {},
   "outputs": [
    {
     "name": "stdout",
     "output_type": "stream",
     "text": [
      "<class 'pandas.core.frame.DataFrame'>\n",
      "Int64Index: 12073 entries, 0 to 12073\n",
      "Data columns (total 12 columns):\n",
      " #   Column           Non-Null Count  Dtype  \n",
      "---  ------           --------------  -----  \n",
      " 0   index            12073 non-null  int64  \n",
      " 1   state            12073 non-null  object \n",
      " 2   gender           12073 non-null  object \n",
      " 3   education        9137 non-null   object \n",
      " 4   cust_life_val    12073 non-null  float64\n",
      " 5   income           9137 non-null   float64\n",
      " 6   month_prem_auto  9137 non-null   float64\n",
      " 7   no_open_compl    9137 non-null   object \n",
      " 8   policy_type      9137 non-null   object \n",
      " 9   veh_class        9137 non-null   object \n",
      " 10  tot_claim_amt    9137 non-null   float64\n",
      " 11  region           12073 non-null  object \n",
      "dtypes: float64(4), int64(1), object(7)\n",
      "memory usage: 1.2+ MB\n"
     ]
    }
   ],
   "source": [
    "numerical=main_data._get_numeric_data()\n",
    "main_data.info()"
   ]
  },
  {
   "cell_type": "markdown",
   "id": "1f7bc7ee",
   "metadata": {},
   "source": [
    "### Datetime format - Extract the months from the dataset and store in a separate column. Then filter the data to show only the information for the first quarter , ie. January, February and March. Hint: If data from March does not exist, consider only January and February???\n"
   ]
  },
  {
   "cell_type": "code",
   "execution_count": 90,
   "id": "abf4f574",
   "metadata": {},
   "outputs": [],
   "source": [
    "### Insufficient Data"
   ]
  },
  {
   "cell_type": "markdown",
   "id": "728a7d34",
   "metadata": {},
   "source": [
    "# Activity 4 "
   ]
  },
  {
   "cell_type": "markdown",
   "id": "8e5b96fb",
   "metadata": {},
   "source": [
    "### Show a plot of the total number of responses ???"
   ]
  },
  {
   "cell_type": "code",
   "execution_count": 91,
   "id": "7ce5219d",
   "metadata": {},
   "outputs": [],
   "source": [
    "### Insufficient Data"
   ]
  },
  {
   "cell_type": "markdown",
   "id": "479b42e1",
   "metadata": {},
   "source": [
    "### Show a plot of the response rate by the sales channel ???"
   ]
  },
  {
   "cell_type": "code",
   "execution_count": 57,
   "id": "ea881258",
   "metadata": {},
   "outputs": [],
   "source": [
    "### Insufficient Data"
   ]
  },
  {
   "cell_type": "markdown",
   "id": "177c3cee",
   "metadata": {},
   "source": [
    "### Show a plot of the response rate by the total claim amount"
   ]
  },
  {
   "cell_type": "code",
   "execution_count": 93,
   "id": "1f4786db",
   "metadata": {},
   "outputs": [
    {
     "data": {
      "text/plain": [
       "<AxesSubplot:xlabel='tot_claim_amt', ylabel='Count'>"
      ]
     },
     "execution_count": 93,
     "metadata": {},
     "output_type": "execute_result"
    },
    {
     "data": {
      "image/png": "[encoded data removed]",
      "text/plain": [
       "<Figure size 432x288 with 1 Axes>"
      ]
     },
     "metadata": {
      "needs_background": "light"
     },
     "output_type": "display_data"
    }
   ],
   "source": [
    "import matplotlib.pyplot as plt\n",
    "import seaborn as sns \n",
    "\n",
    "sns.histplot(x='tot_claim_amt',data=numerical)\n"
   ]
  },
  {
   "cell_type": "code",
   "execution_count": 96,
   "id": "79c99998",
   "metadata": {},
   "outputs": [
    {
     "data": {
      "image/png": "[encoded data removed]",
      "text/plain": [
       "<Figure size 432x288 with 1 Axes>"
      ]
     },
     "metadata": {
      "needs_background": "light"
     },
     "output_type": "display_data"
    }
   ],
   "source": [
    "plt.scatter(x=main_data['month_prem_auto'], y=main_data['tot_claim_amt'])\n",
    "plt.xlabel(\"month_prem_auto\")\n",
    "plt.ylabel(\"total_claim_auto\")\n",
    "plt.show()"
   ]
  },
  {
   "cell_type": "markdown",
   "id": "cb50e520",
   "metadata": {},
   "source": [
    "### Don't limit your creativity! plot any interesting findings/insights that describe some interesting facts about your data set and its variables."
   ]
  },
  {
   "cell_type": "code",
   "execution_count": null,
   "id": "d2dfe156",
   "metadata": {},
   "outputs": [],
   "source": [
    "###"
   ]
  },
  {
   "cell_type": "markdown",
   "id": "d48f1ac2",
   "metadata": {},
   "source": [
    "### Plot the Correlation Heatmap"
   ]
  },
  {
   "cell_type": "code",
   "execution_count": 97,
   "id": "3868ea55",
   "metadata": {},
   "outputs": [
    {
     "data": {
      "image/png": "[encoded data removed]",
      "text/plain": [
       "<Figure size 1080x576 with 2 Axes>"
      ]
     },
     "metadata": {},
     "output_type": "display_data"
    }
   ],
   "source": [
    "sns.set(rc={'figure.figsize':(15,8)})\n",
    "correlations_matrix=numerical.corr()\n",
    "sns.heatmap(correlations_matrix, annot=True)\n",
    "plt.show()"
   ]
  },
  {
   "cell_type": "markdown",
   "id": "2683d782",
   "metadata": {},
   "source": [
    "###  Clean your notebook and make it a readible and presentable with a good documentation that summarizes the Data Cleaning, Exploration(including plots) Steps that you have performed"
   ]
  },
  {
   "cell_type": "code",
   "execution_count": 98,
   "id": "0bbca2ed",
   "metadata": {},
   "outputs": [],
   "source": [
    "###"
   ]
  },
  {
   "cell_type": "markdown",
   "id": "4e3bdea2",
   "metadata": {},
   "source": [
    "# Activity 5 "
   ]
  },
  {
   "cell_type": "markdown",
   "id": "91bd4696",
   "metadata": {},
   "source": [
    "###  Check the data types of the columns. Get the numeric data into dataframe called numerical and categorical columns in a dataframe called categoricals. (You can use np.number and np.object to select the numerical data types and categorical data types respectively)"
   ]
  },
  {
   "cell_type": "code",
   "execution_count": 99,
   "id": "3c5f5d8d",
   "metadata": {},
   "outputs": [
    {
     "data": {
      "text/html": [
       "<div>\n",
       "<style scoped>\n",
       "    .dataframe tbody tr th:only-of-type {\n",
       "        vertical-align: middle;\n",
       "    }\n",
       "\n",
       "    .dataframe tbody tr th {\n",
       "        vertical-align: top;\n",
       "    }\n",
       "\n",
       "    .dataframe thead th {\n",
       "        text-align: right;\n",
       "    }\n",
       "</style>\n",
       "<table border=\"1\" class=\"dataframe\">\n",
       "  <thead>\n",
       "    <tr style=\"text-align: right;\">\n",
       "      <th></th>\n",
       "      <th>index</th>\n",
       "      <th>cust_life_val</th>\n",
       "      <th>income</th>\n",
       "      <th>month_prem_auto</th>\n",
       "      <th>tot_claim_amt</th>\n",
       "    </tr>\n",
       "  </thead>\n",
       "  <tbody>\n",
       "    <tr>\n",
       "      <th>0</th>\n",
       "      <td>0</td>\n",
       "      <td>8028.803803</td>\n",
       "      <td>0.0</td>\n",
       "      <td>1000.0</td>\n",
       "      <td>2.704934</td>\n",
       "    </tr>\n",
       "    <tr>\n",
       "      <th>1</th>\n",
       "      <td>1</td>\n",
       "      <td>8028.803803</td>\n",
       "      <td>0.0</td>\n",
       "      <td>94.0</td>\n",
       "      <td>1131.464935</td>\n",
       "    </tr>\n",
       "    <tr>\n",
       "      <th>2</th>\n",
       "      <td>2</td>\n",
       "      <td>8028.803803</td>\n",
       "      <td>48767.0</td>\n",
       "      <td>108.0</td>\n",
       "      <td>566.472247</td>\n",
       "    </tr>\n",
       "    <tr>\n",
       "      <th>3</th>\n",
       "      <td>3</td>\n",
       "      <td>8028.803803</td>\n",
       "      <td>0.0</td>\n",
       "      <td>106.0</td>\n",
       "      <td>529.881344</td>\n",
       "    </tr>\n",
       "    <tr>\n",
       "      <th>4</th>\n",
       "      <td>4</td>\n",
       "      <td>8028.803803</td>\n",
       "      <td>36357.0</td>\n",
       "      <td>68.0</td>\n",
       "      <td>17.269323</td>\n",
       "    </tr>\n",
       "    <tr>\n",
       "      <th>...</th>\n",
       "      <td>...</td>\n",
       "      <td>...</td>\n",
       "      <td>...</td>\n",
       "      <td>...</td>\n",
       "      <td>...</td>\n",
       "    </tr>\n",
       "    <tr>\n",
       "      <th>12069</th>\n",
       "      <td>7065</td>\n",
       "      <td>23405.987980</td>\n",
       "      <td>71941.0</td>\n",
       "      <td>73.0</td>\n",
       "      <td>198.234764</td>\n",
       "    </tr>\n",
       "    <tr>\n",
       "      <th>12070</th>\n",
       "      <td>7066</td>\n",
       "      <td>3096.511217</td>\n",
       "      <td>21604.0</td>\n",
       "      <td>79.0</td>\n",
       "      <td>379.200000</td>\n",
       "    </tr>\n",
       "    <tr>\n",
       "      <th>12071</th>\n",
       "      <td>7067</td>\n",
       "      <td>8163.890428</td>\n",
       "      <td>0.0</td>\n",
       "      <td>85.0</td>\n",
       "      <td>790.784983</td>\n",
       "    </tr>\n",
       "    <tr>\n",
       "      <th>12072</th>\n",
       "      <td>7068</td>\n",
       "      <td>7524.442436</td>\n",
       "      <td>21941.0</td>\n",
       "      <td>96.0</td>\n",
       "      <td>691.200000</td>\n",
       "    </tr>\n",
       "    <tr>\n",
       "      <th>12073</th>\n",
       "      <td>7069</td>\n",
       "      <td>2611.836866</td>\n",
       "      <td>0.0</td>\n",
       "      <td>77.0</td>\n",
       "      <td>369.600000</td>\n",
       "    </tr>\n",
       "  </tbody>\n",
       "</table>\n",
       "<p>12073 rows × 5 columns</p>\n",
       "</div>"
      ],
      "text/plain": [
       "       index  cust_life_val   income  month_prem_auto  tot_claim_amt\n",
       "0          0    8028.803803      0.0           1000.0       2.704934\n",
       "1          1    8028.803803      0.0             94.0    1131.464935\n",
       "2          2    8028.803803  48767.0            108.0     566.472247\n",
       "3          3    8028.803803      0.0            106.0     529.881344\n",
       "4          4    8028.803803  36357.0             68.0      17.269323\n",
       "...      ...            ...      ...              ...            ...\n",
       "12069   7065   23405.987980  71941.0             73.0     198.234764\n",
       "12070   7066    3096.511217  21604.0             79.0     379.200000\n",
       "12071   7067    8163.890428      0.0             85.0     790.784983\n",
       "12072   7068    7524.442436  21941.0             96.0     691.200000\n",
       "12073   7069    2611.836866      0.0             77.0     369.600000\n",
       "\n",
       "[12073 rows x 5 columns]"
      ]
     },
     "execution_count": 99,
     "metadata": {},
     "output_type": "execute_result"
    }
   ],
   "source": [
    "num_columns= main_data._get_numeric_data()\n",
    "num_columns\n"
   ]
  },
  {
   "cell_type": "code",
   "execution_count": 100,
   "id": "72d89a9b",
   "metadata": {},
   "outputs": [
    {
     "data": {
      "text/html": [
       "<div>\n",
       "<style scoped>\n",
       "    .dataframe tbody tr th:only-of-type {\n",
       "        vertical-align: middle;\n",
       "    }\n",
       "\n",
       "    .dataframe tbody tr th {\n",
       "        vertical-align: top;\n",
       "    }\n",
       "\n",
       "    .dataframe thead th {\n",
       "        text-align: right;\n",
       "    }\n",
       "</style>\n",
       "<table border=\"1\" class=\"dataframe\">\n",
       "  <thead>\n",
       "    <tr style=\"text-align: right;\">\n",
       "      <th></th>\n",
       "      <th>state</th>\n",
       "      <th>gender</th>\n",
       "      <th>education</th>\n",
       "      <th>no_open_compl</th>\n",
       "      <th>policy_type</th>\n",
       "      <th>veh_class</th>\n",
       "      <th>region</th>\n",
       "    </tr>\n",
       "  </thead>\n",
       "  <tbody>\n",
       "    <tr>\n",
       "      <th>0</th>\n",
       "      <td>washington</td>\n",
       "      <td>U</td>\n",
       "      <td>master</td>\n",
       "      <td>1/0/00</td>\n",
       "      <td>personal auto</td>\n",
       "      <td>four-door car</td>\n",
       "      <td>east</td>\n",
       "    </tr>\n",
       "    <tr>\n",
       "      <th>1</th>\n",
       "      <td>arizona</td>\n",
       "      <td>F</td>\n",
       "      <td>bachelor</td>\n",
       "      <td>1/0/00</td>\n",
       "      <td>personal auto</td>\n",
       "      <td>four-door car</td>\n",
       "      <td>central</td>\n",
       "    </tr>\n",
       "    <tr>\n",
       "      <th>2</th>\n",
       "      <td>nevada</td>\n",
       "      <td>F</td>\n",
       "      <td>bachelor</td>\n",
       "      <td>1/0/00</td>\n",
       "      <td>personal auto</td>\n",
       "      <td>two-door car</td>\n",
       "      <td>central</td>\n",
       "    </tr>\n",
       "    <tr>\n",
       "      <th>3</th>\n",
       "      <td>california</td>\n",
       "      <td>M</td>\n",
       "      <td>bachelor</td>\n",
       "      <td>1/0/00</td>\n",
       "      <td>corporate auto</td>\n",
       "      <td>suv</td>\n",
       "      <td>west region</td>\n",
       "    </tr>\n",
       "    <tr>\n",
       "      <th>4</th>\n",
       "      <td>washington</td>\n",
       "      <td>M</td>\n",
       "      <td>high school or below</td>\n",
       "      <td>1/0/00</td>\n",
       "      <td>personal auto</td>\n",
       "      <td>four-door car</td>\n",
       "      <td>east</td>\n",
       "    </tr>\n",
       "    <tr>\n",
       "      <th>...</th>\n",
       "      <td>...</td>\n",
       "      <td>...</td>\n",
       "      <td>...</td>\n",
       "      <td>...</td>\n",
       "      <td>...</td>\n",
       "      <td>...</td>\n",
       "      <td>...</td>\n",
       "    </tr>\n",
       "    <tr>\n",
       "      <th>12069</th>\n",
       "      <td>california</td>\n",
       "      <td>M</td>\n",
       "      <td>bachelor</td>\n",
       "      <td>0</td>\n",
       "      <td>personal auto</td>\n",
       "      <td>four-door car</td>\n",
       "      <td>west region</td>\n",
       "    </tr>\n",
       "    <tr>\n",
       "      <th>12070</th>\n",
       "      <td>california</td>\n",
       "      <td>F</td>\n",
       "      <td>college</td>\n",
       "      <td>0</td>\n",
       "      <td>corporate auto</td>\n",
       "      <td>four-door car</td>\n",
       "      <td>west region</td>\n",
       "    </tr>\n",
       "    <tr>\n",
       "      <th>12071</th>\n",
       "      <td>california</td>\n",
       "      <td>M</td>\n",
       "      <td>bachelor</td>\n",
       "      <td>3</td>\n",
       "      <td>corporate auto</td>\n",
       "      <td>four-door car</td>\n",
       "      <td>west region</td>\n",
       "    </tr>\n",
       "    <tr>\n",
       "      <th>12072</th>\n",
       "      <td>california</td>\n",
       "      <td>M</td>\n",
       "      <td>college</td>\n",
       "      <td>0</td>\n",
       "      <td>personal auto</td>\n",
       "      <td>four-door car</td>\n",
       "      <td>west region</td>\n",
       "    </tr>\n",
       "    <tr>\n",
       "      <th>12073</th>\n",
       "      <td>california</td>\n",
       "      <td>M</td>\n",
       "      <td>college</td>\n",
       "      <td>0</td>\n",
       "      <td>corporate auto</td>\n",
       "      <td>two-door car</td>\n",
       "      <td>west region</td>\n",
       "    </tr>\n",
       "  </tbody>\n",
       "</table>\n",
       "<p>12073 rows × 7 columns</p>\n",
       "</div>"
      ],
      "text/plain": [
       "            state gender             education no_open_compl     policy_type  \\\n",
       "0      washington      U                master        1/0/00   personal auto   \n",
       "1         arizona      F              bachelor        1/0/00   personal auto   \n",
       "2          nevada      F              bachelor        1/0/00   personal auto   \n",
       "3      california      M              bachelor        1/0/00  corporate auto   \n",
       "4      washington      M  high school or below        1/0/00   personal auto   \n",
       "...           ...    ...                   ...           ...             ...   \n",
       "12069  california      M              bachelor             0   personal auto   \n",
       "12070  california      F               college             0  corporate auto   \n",
       "12071  california      M              bachelor             3  corporate auto   \n",
       "12072  california      M               college             0   personal auto   \n",
       "12073  california      M               college             0  corporate auto   \n",
       "\n",
       "           veh_class       region  \n",
       "0      four-door car         east  \n",
       "1      four-door car      central  \n",
       "2       two-door car      central  \n",
       "3                suv  west region  \n",
       "4      four-door car         east  \n",
       "...              ...          ...  \n",
       "12069  four-door car  west region  \n",
       "12070  four-door car  west region  \n",
       "12071  four-door car  west region  \n",
       "12072  four-door car  west region  \n",
       "12073   two-door car  west region  \n",
       "\n",
       "[12073 rows x 7 columns]"
      ]
     },
     "execution_count": 100,
     "metadata": {},
     "output_type": "execute_result"
    }
   ],
   "source": [
    "cat_columns = main_data.select_dtypes(\"object\")\n",
    "cat_columns"
   ]
  },
  {
   "cell_type": "markdown",
   "id": "df227cf1",
   "metadata": {},
   "source": [
    "###  Now we will try to check the normality of the numerical variables visually\n",
    "Use seaborn library to construct distribution plots for the numerical variables\n",
    "Use Matplotlib to construct histograms\n",
    "Do the distributions for different numerical variables look like a normal distribution\n"
   ]
  },
  {
   "cell_type": "code",
   "execution_count": 101,
   "id": "a48fa019",
   "metadata": {},
   "outputs": [
    {
     "data": {
      "text/plain": [
       "array([[<AxesSubplot:title={'center':'index'}>,\n",
       "        <AxesSubplot:title={'center':'cust_life_val'}>],\n",
       "       [<AxesSubplot:title={'center':'income'}>,\n",
       "        <AxesSubplot:title={'center':'month_prem_auto'}>],\n",
       "       [<AxesSubplot:title={'center':'tot_claim_amt'}>, <AxesSubplot:>]],\n",
       "      dtype=object)"
      ]
     },
     "execution_count": 101,
     "metadata": {},
     "output_type": "execute_result"
    },
    {
     "data": {
      "image/png": "[encoded data removed]",
      "text/plain": [
       "<Figure size 864x864 with 6 Axes>"
      ]
     },
     "metadata": {},
     "output_type": "display_data"
    }
   ],
   "source": [
    "main_data.hist(figsize=(12,12))"
   ]
  },
  {
   "cell_type": "markdown",
   "id": "ab43fc0d",
   "metadata": {},
   "source": [
    "### For the numerical variables, check the multicollinearity between the features. Please note that we will use the column total_claim_amount later as the target variable"
   ]
  },
  {
   "cell_type": "code",
   "execution_count": null,
   "id": "75523bf0",
   "metadata": {},
   "outputs": [
    {
     "data": {
      "text/plain": [
       "<seaborn.axisgrid.PairGrid at 0x279aa178490>"
      ]
     },
     "execution_count": 102,
     "metadata": {},
     "output_type": "execute_result"
    }
   ],
   "source": [
    "sns.pairplot(main_data)"
   ]
  },
  {
   "cell_type": "markdown",
   "id": "274a9de1",
   "metadata": {},
   "source": [
    "### Drop one of the two features that show a high correlation between them (greater than 0.9). Write code for both the correlation matrix and for seaborn heatmap. If there is no pair of features that have a high correlation, then do not drop any features"
   ]
  },
  {
   "cell_type": "code",
   "execution_count": null,
   "id": "a082bdb2",
   "metadata": {},
   "outputs": [],
   "source": [
    "\n",
    "corr_matrix=main_data.corr().abs()\n",
    "upper_triangle=corr_matrix.where(np.triu(np.ones(corr_matrix.shape),k=1).astype(bool))\n",
    "[column for column in upper_triangle.columns if any(upper_triangle[column] > 0.0)]"
   ]
  },
  {
   "cell_type": "code",
   "execution_count": null,
   "id": "5ca32bb1",
   "metadata": {},
   "outputs": [],
   "source": [
    "#main_data.drop([\"\"],axis=1,inplace=True)"
   ]
  },
  {
   "cell_type": "code",
   "execution_count": null,
   "id": "37d45152",
   "metadata": {},
   "outputs": [],
   "source": []
  }
 ],
 "metadata": {
  "kernelspec": {
   "display_name": "Python 3 (ipykernel)",
   "language": "python",
   "name": "python3"
  },
  "language_info": {
   "codemirror_mode": {
    "name": "ipython",
    "version": 3
   },
   "file_extension": ".py",
   "mimetype": "text/x-python",
   "name": "python",
   "nbconvert_exporter": "python",
   "pygments_lexer": "ipython3",
   "version": "3.9.6"
  }
 },
 "nbformat": 4,
 "nbformat_minor": 5
}
